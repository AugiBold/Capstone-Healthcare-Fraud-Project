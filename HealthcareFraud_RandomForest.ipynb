{
 "cells": [
  {
   "cell_type": "markdown",
   "metadata": {},
   "source": [
    "This notebook reads in the datasets that are already upsampled, standard-scaled, and train-test-split so we can use the same initial features (35) for consistency for RandomForest from Linear Models.    "
   ]
  },
  {
   "cell_type": "code",
   "execution_count": 1,
   "metadata": {},
   "outputs": [],
   "source": [
    "import numpy as np\n",
    "import pandas as pd\n",
    "%matplotlib inline \n",
    "import seaborn as sns\n",
    "from matplotlib import pyplot as plt\n",
    "import matplotlib.pyplot as plt\n",
    "from sklearn.preprocessing import LabelEncoder\n",
    "from sklearn.preprocessing import OrdinalEncoder\n",
    "import sklearn.model_selection as ms\n",
    "from sklearn.model_selection import train_test_split\n",
    "from sklearn.metrics import confusion_matrix\n",
    "from sklearn.model_selection import StratifiedShuffleSplit\n",
    "from sklearn import ensemble\n",
    "\n",
    "X_train = pd.read_csv('./X_train.csv', index_col=0)\n",
    "X_test = pd.read_csv('./X_test.csv', index_col=0)\n",
    "y_train = pd.read_csv('./y_train.csv', index_col=0)\n",
    "y_test = pd.read_csv('./y_test.csv', index_col=0)"
   ]
  },
  {
   "cell_type": "code",
   "execution_count": 2,
   "metadata": {},
   "outputs": [
    {
     "data": {
      "text/html": [
       "<div>\n",
       "<style scoped>\n",
       "    .dataframe tbody tr th:only-of-type {\n",
       "        vertical-align: middle;\n",
       "    }\n",
       "\n",
       "    .dataframe tbody tr th {\n",
       "        vertical-align: top;\n",
       "    }\n",
       "\n",
       "    .dataframe thead th {\n",
       "        text-align: right;\n",
       "    }\n",
       "</style>\n",
       "<table border=\"1\" class=\"dataframe\">\n",
       "  <thead>\n",
       "    <tr style=\"text-align: right;\">\n",
       "      <th></th>\n",
       "      <th>Unique_County</th>\n",
       "      <th>Unique_States</th>\n",
       "      <th>Avg_AdmissionDuration</th>\n",
       "      <th>Avg_ClaimDuration</th>\n",
       "      <th>Avg_Total_ClmProcedureCode</th>\n",
       "      <th>Avg_Total_ClmDiagnosisCode</th>\n",
       "      <th>DiagnosisGroupCode_count</th>\n",
       "      <th>Unique_DiagnosisGroupCode</th>\n",
       "      <th>ClmAdmitDiagnosisCode_count</th>\n",
       "      <th>Unique_ClmAdmitDiagnosisCode</th>\n",
       "      <th>...</th>\n",
       "      <th>ChronicCond_rheumatoidarthritis</th>\n",
       "      <th>ChronicCond_stroke</th>\n",
       "      <th>Age_20-30</th>\n",
       "      <th>Age_30-40</th>\n",
       "      <th>Age_40-50</th>\n",
       "      <th>Age_50-60</th>\n",
       "      <th>Age_60-70</th>\n",
       "      <th>Age_70-80</th>\n",
       "      <th>Age_80-90</th>\n",
       "      <th>Age_90-101</th>\n",
       "    </tr>\n",
       "  </thead>\n",
       "  <tbody>\n",
       "    <tr>\n",
       "      <th>0</th>\n",
       "      <td>-0.166326</td>\n",
       "      <td>-0.524122</td>\n",
       "      <td>-0.425291</td>\n",
       "      <td>0.339014</td>\n",
       "      <td>-0.437440</td>\n",
       "      <td>-0.537097</td>\n",
       "      <td>-0.336670</td>\n",
       "      <td>-0.359205</td>\n",
       "      <td>-0.058553</td>\n",
       "      <td>0.010156</td>\n",
       "      <td>...</td>\n",
       "      <td>0.35</td>\n",
       "      <td>0.07</td>\n",
       "      <td>0.00</td>\n",
       "      <td>0.02</td>\n",
       "      <td>0.07</td>\n",
       "      <td>0.15</td>\n",
       "      <td>0.16</td>\n",
       "      <td>0.27</td>\n",
       "      <td>0.27</td>\n",
       "      <td>0.05</td>\n",
       "    </tr>\n",
       "    <tr>\n",
       "      <th>1</th>\n",
       "      <td>0.025710</td>\n",
       "      <td>-0.182495</td>\n",
       "      <td>-0.425291</td>\n",
       "      <td>-0.790589</td>\n",
       "      <td>-0.437440</td>\n",
       "      <td>0.187966</td>\n",
       "      <td>-0.336670</td>\n",
       "      <td>-0.359205</td>\n",
       "      <td>-0.341867</td>\n",
       "      <td>-0.431924</td>\n",
       "      <td>...</td>\n",
       "      <td>0.37</td>\n",
       "      <td>0.16</td>\n",
       "      <td>0.00</td>\n",
       "      <td>0.00</td>\n",
       "      <td>0.05</td>\n",
       "      <td>0.00</td>\n",
       "      <td>0.00</td>\n",
       "      <td>0.63</td>\n",
       "      <td>0.26</td>\n",
       "      <td>0.05</td>\n",
       "    </tr>\n",
       "    <tr>\n",
       "      <th>2</th>\n",
       "      <td>0.217745</td>\n",
       "      <td>0.159131</td>\n",
       "      <td>-0.425291</td>\n",
       "      <td>-0.173476</td>\n",
       "      <td>-0.437440</td>\n",
       "      <td>-0.283265</td>\n",
       "      <td>-0.336670</td>\n",
       "      <td>-0.359205</td>\n",
       "      <td>-0.310387</td>\n",
       "      <td>-0.376664</td>\n",
       "      <td>...</td>\n",
       "      <td>0.35</td>\n",
       "      <td>0.09</td>\n",
       "      <td>0.04</td>\n",
       "      <td>0.00</td>\n",
       "      <td>0.00</td>\n",
       "      <td>0.04</td>\n",
       "      <td>0.09</td>\n",
       "      <td>0.48</td>\n",
       "      <td>0.35</td>\n",
       "      <td>0.00</td>\n",
       "    </tr>\n",
       "    <tr>\n",
       "      <th>3</th>\n",
       "      <td>-0.742434</td>\n",
       "      <td>-0.524122</td>\n",
       "      <td>-0.425291</td>\n",
       "      <td>0.439202</td>\n",
       "      <td>-0.437440</td>\n",
       "      <td>-0.814006</td>\n",
       "      <td>-0.336670</td>\n",
       "      <td>-0.359205</td>\n",
       "      <td>-0.310387</td>\n",
       "      <td>-0.376664</td>\n",
       "      <td>...</td>\n",
       "      <td>0.37</td>\n",
       "      <td>0.11</td>\n",
       "      <td>0.00</td>\n",
       "      <td>0.05</td>\n",
       "      <td>0.05</td>\n",
       "      <td>0.05</td>\n",
       "      <td>0.11</td>\n",
       "      <td>0.39</td>\n",
       "      <td>0.29</td>\n",
       "      <td>0.05</td>\n",
       "    </tr>\n",
       "    <tr>\n",
       "      <th>4</th>\n",
       "      <td>0.217745</td>\n",
       "      <td>0.159131</td>\n",
       "      <td>-0.002242</td>\n",
       "      <td>-0.177867</td>\n",
       "      <td>0.223641</td>\n",
       "      <td>-0.182171</td>\n",
       "      <td>0.341722</td>\n",
       "      <td>0.414753</td>\n",
       "      <td>0.130323</td>\n",
       "      <td>0.341716</td>\n",
       "      <td>...</td>\n",
       "      <td>0.22</td>\n",
       "      <td>0.12</td>\n",
       "      <td>0.00</td>\n",
       "      <td>0.03</td>\n",
       "      <td>0.07</td>\n",
       "      <td>0.05</td>\n",
       "      <td>0.15</td>\n",
       "      <td>0.37</td>\n",
       "      <td>0.25</td>\n",
       "      <td>0.08</td>\n",
       "    </tr>\n",
       "  </tbody>\n",
       "</table>\n",
       "<p>5 rows × 35 columns</p>\n",
       "</div>"
      ],
      "text/plain": [
       "   Unique_County  Unique_States  Avg_AdmissionDuration  Avg_ClaimDuration  \\\n",
       "0      -0.166326      -0.524122              -0.425291           0.339014   \n",
       "1       0.025710      -0.182495              -0.425291          -0.790589   \n",
       "2       0.217745       0.159131              -0.425291          -0.173476   \n",
       "3      -0.742434      -0.524122              -0.425291           0.439202   \n",
       "4       0.217745       0.159131              -0.002242          -0.177867   \n",
       "\n",
       "   Avg_Total_ClmProcedureCode  Avg_Total_ClmDiagnosisCode  \\\n",
       "0                   -0.437440                   -0.537097   \n",
       "1                   -0.437440                    0.187966   \n",
       "2                   -0.437440                   -0.283265   \n",
       "3                   -0.437440                   -0.814006   \n",
       "4                    0.223641                   -0.182171   \n",
       "\n",
       "   DiagnosisGroupCode_count  Unique_DiagnosisGroupCode  \\\n",
       "0                 -0.336670                  -0.359205   \n",
       "1                 -0.336670                  -0.359205   \n",
       "2                 -0.336670                  -0.359205   \n",
       "3                 -0.336670                  -0.359205   \n",
       "4                  0.341722                   0.414753   \n",
       "\n",
       "   ClmAdmitDiagnosisCode_count  Unique_ClmAdmitDiagnosisCode  ...  \\\n",
       "0                    -0.058553                      0.010156  ...   \n",
       "1                    -0.341867                     -0.431924  ...   \n",
       "2                    -0.310387                     -0.376664  ...   \n",
       "3                    -0.310387                     -0.376664  ...   \n",
       "4                     0.130323                      0.341716  ...   \n",
       "\n",
       "   ChronicCond_rheumatoidarthritis  ChronicCond_stroke  Age_20-30  Age_30-40  \\\n",
       "0                             0.35                0.07       0.00       0.02   \n",
       "1                             0.37                0.16       0.00       0.00   \n",
       "2                             0.35                0.09       0.04       0.00   \n",
       "3                             0.37                0.11       0.00       0.05   \n",
       "4                             0.22                0.12       0.00       0.03   \n",
       "\n",
       "   Age_40-50  Age_50-60  Age_60-70  Age_70-80  Age_80-90  Age_90-101  \n",
       "0       0.07       0.15       0.16       0.27       0.27        0.05  \n",
       "1       0.05       0.00       0.00       0.63       0.26        0.05  \n",
       "2       0.00       0.04       0.09       0.48       0.35        0.00  \n",
       "3       0.05       0.05       0.11       0.39       0.29        0.05  \n",
       "4       0.07       0.05       0.15       0.37       0.25        0.08  \n",
       "\n",
       "[5 rows x 35 columns]"
      ]
     },
     "execution_count": 2,
     "metadata": {},
     "output_type": "execute_result"
    }
   ],
   "source": [
    "X_train.head()"
   ]
  },
  {
   "cell_type": "code",
   "execution_count": 3,
   "metadata": {},
   "outputs": [
    {
     "data": {
      "text/plain": [
       "(4462, 35)"
      ]
     },
     "execution_count": 3,
     "metadata": {},
     "output_type": "execute_result"
    }
   ],
   "source": [
    "X_train.shape"
   ]
  },
  {
   "cell_type": "code",
   "execution_count": 4,
   "metadata": {},
   "outputs": [
    {
     "data": {
      "text/plain": [
       "(1623, 35)"
      ]
     },
     "execution_count": 4,
     "metadata": {},
     "output_type": "execute_result"
    }
   ],
   "source": [
    "X_test.shape"
   ]
  },
  {
   "cell_type": "code",
   "execution_count": 5,
   "metadata": {},
   "outputs": [],
   "source": [
    "y_train = pd.Series(y_train['PotentialFraud'], dtype='int32')"
   ]
  },
  {
   "cell_type": "code",
   "execution_count": 6,
   "metadata": {},
   "outputs": [],
   "source": [
    "y_test = pd.Series(y_test['PotentialFraud'], dtype='int32')"
   ]
  },
  {
   "cell_type": "code",
   "execution_count": 19,
   "metadata": {},
   "outputs": [],
   "source": [
    "param_grid= {\n",
    "    'criterion': ['gini'],\n",
    "    'n_estimators': [100, 200, 300],\n",
    "    'max_depth': [12,13,14], \n",
    "    'max_features': [8,10,12],\n",
    "    'min_samples_leaf': [3,4,5]\n",
    "}"
   ]
  },
  {
   "cell_type": "code",
   "execution_count": 20,
   "metadata": {},
   "outputs": [],
   "source": [
    "from sklearn.ensemble import RandomForestClassifier \n",
    "rf_Model = RandomForestClassifier(random_state=1)  \n",
    "\n",
    "from sklearn.model_selection import GridSearchCV, KFold \n",
    "rf_Grid = GridSearchCV(rf_Model, param_grid = param_grid, cv=KFold(shuffle= True, random_state=1), verbose=2, n_jobs=-1, scoring='roc_auc')"
   ]
  },
  {
   "cell_type": "code",
   "execution_count": 21,
   "metadata": {},
   "outputs": [
    {
     "name": "stdout",
     "output_type": "stream",
     "text": [
      "Fitting 5 folds for each of 81 candidates, totalling 405 fits\n"
     ]
    }
   ],
   "source": [
    "random_Grid = rf_Grid.fit(X_train, y_train)"
   ]
  },
  {
   "cell_type": "code",
   "execution_count": 23,
   "metadata": {},
   "outputs": [
    {
     "data": {
      "text/plain": [
       "{'criterion': 'gini',\n",
       " 'max_depth': 14,\n",
       " 'max_features': 12,\n",
       " 'min_samples_leaf': 3,\n",
       " 'n_estimators': 100}"
      ]
     },
     "execution_count": 23,
     "metadata": {},
     "output_type": "execute_result"
    }
   ],
   "source": [
    "rf_Grid.best_params_"
   ]
  },
  {
   "cell_type": "code",
   "execution_count": 24,
   "metadata": {},
   "outputs": [
    {
     "data": {
      "text/plain": [
       "0.9720655671283851"
      ]
     },
     "execution_count": 24,
     "metadata": {},
     "output_type": "execute_result"
    }
   ],
   "source": [
    "rf_Grid.best_score_"
   ]
  },
  {
   "cell_type": "code",
   "execution_count": 25,
   "metadata": {},
   "outputs": [
    {
     "name": "stdout",
     "output_type": "stream",
     "text": [
      "0.9993964711680519\n",
      "0.9356730115567641\n"
     ]
    }
   ],
   "source": [
    "print(rf_Grid.score(X_train, y_train))\n",
    "print(rf_Grid.score(X_test, y_test))"
   ]
  },
  {
   "cell_type": "code",
   "execution_count": 28,
   "metadata": {},
   "outputs": [
    {
     "data": {
      "text/plain": [
       "array([[1425,   46],\n",
       "       [  61,   91]], dtype=int64)"
      ]
     },
     "execution_count": 28,
     "metadata": {},
     "output_type": "execute_result"
    }
   ],
   "source": [
    "from sklearn.metrics import confusion_matrix\n",
    "y_true = y_test\n",
    "y_pred = rf_Grid.best_estimator_.predict(X_test)\n",
    "# y_pred1 = rf_Grid.best_estimator_.predict(X_test)\n",
    "cm = confusion_matrix(y_true, y_pred)\n",
    "cm\n",
    "\n",
    "# print(y_pred)"
   ]
  },
  {
   "cell_type": "code",
   "execution_count": null,
   "metadata": {},
   "outputs": [],
   "source": [
    "# proba_df= pd.DataFrame(y_pred, columns = ['proba_0', 'proba_1'])"
   ]
  },
  {
   "cell_type": "code",
   "execution_count": null,
   "metadata": {},
   "outputs": [],
   "source": [
    "# proba_df"
   ]
  },
  {
   "cell_type": "code",
   "execution_count": null,
   "metadata": {},
   "outputs": [],
   "source": [
    "# thresh = .60\n",
    "proba_df['class'] = [1 if proba > thresh else 0 for proba in proba_df['proba_1']]"
   ]
  },
  {
   "cell_type": "code",
   "execution_count": null,
   "metadata": {
    "scrolled": true
   },
   "outputs": [],
   "source": [
    "# proba_df"
   ]
  },
  {
   "cell_type": "code",
   "execution_count": null,
   "metadata": {},
   "outputs": [],
   "source": [
    "# confusion_matrix(y_true, proba_df['class'])"
   ]
  },
  {
   "cell_type": "code",
   "execution_count": 48,
   "metadata": {},
   "outputs": [
    {
     "data": {
      "text/plain": [
       "Text(24.0, 0.5, 'Actual Value')"
      ]
     },
     "execution_count": 48,
     "metadata": {},
     "output_type": "execute_result"
    },
    {
     "data": {
      "image/png": "[encoded data removed]",
      "text/plain": [
       "<Figure size 360x288 with 2 Axes>"
      ]
     },
     "metadata": {
      "needs_background": "light"
     },
     "output_type": "display_data"
    }
   ],
   "source": [
    "plt.figure(figsize=(5,4))\n",
    "sns.heatmap(cm, annot=True,  fmt='g')\n",
    "plt.xlabel('Predicted Value')\n",
    "plt.ylabel('Actual Value')"
   ]
  },
  {
   "cell_type": "code",
   "execution_count": 41,
   "metadata": {},
   "outputs": [
    {
     "data": {
      "text/plain": [
       "0.5986842105263158"
      ]
     },
     "execution_count": 41,
     "metadata": {},
     "output_type": "execute_result"
    }
   ],
   "source": [
    "RF_Grid_Recall = 91/(91+61)\n",
    "RF_Grid_Recall"
   ]
  },
  {
   "cell_type": "code",
   "execution_count": 31,
   "metadata": {},
   "outputs": [
    {
     "data": {
      "text/plain": [
       "[('DiagnosisGroupCode_count', 0.2454212729503589),\n",
       " ('Unique_DiagnosisGroupCode', 0.11827911711009197),\n",
       " ('ClmAdmitDiagnosisCode_count', 0.08279654905123655),\n",
       " ('Unique_ClmAdmitDiagnosisCode', 0.07280236209255053),\n",
       " ('Avg_Total_ClmProcedureCode', 0.05247744046707821),\n",
       " ('Claim_count', 0.03645681537416567),\n",
       " ('Unique_patients', 0.03452061865649323),\n",
       " ('Avg_AdmissionDuration', 0.023776388791817083),\n",
       " ('Age_50-60', 0.01954051180446756),\n",
       " ('Avg_ClaimDuration', 0.01666626063749777),\n",
       " ('Age_30-40', 0.015698565462211968),\n",
       " ('Unique_States', 0.015447965590989585),\n",
       " ('Avg_TotalClaimCost_PerPatient', 0.014950509750161751),\n",
       " ('Age_40-50', 0.014891335589425698),\n",
       " ('Avg_TotalClaimCost', 0.014661556126963397),\n",
       " ('Age_60-70', 0.013692246410006974),\n",
       " ('Age_70-80', 0.013453956018020964),\n",
       " ('Avg_Total_ClmDiagnosisCode', 0.013105015038355405),\n",
       " ('ChronicCond_IschemicHeart', 0.012805883346087878),\n",
       " ('ChronicCond_Alzheimer', 0.01226316352396782),\n",
       " ('ChronicCond_Heartfailure', 0.011534324041268567),\n",
       " ('Age_20-30', 0.01141193728486819),\n",
       " ('ChronicCond_Cancer', 0.011408139701477249),\n",
       " ('Unique_County', 0.011297237974780692),\n",
       " ('ChronicCond_Depression', 0.011110599136604837),\n",
       " ('ChronicCond_rheumatoidarthritis', 0.01108165674024414),\n",
       " ('Age_90-101', 0.010768396558786348),\n",
       " ('ChronicCond_KidneyDisease', 0.010614502495251352),\n",
       " ('Avg_Total_Physician', 0.010308801539539787),\n",
       " ('ChronicCond_Osteoporasis', 0.01018691106692623),\n",
       " ('RenalDiseaseIndicator', 0.010036143577995855),\n",
       " ('ChronicCond_Diabetes', 0.009714946442566836),\n",
       " ('ChronicCond_ObstrPulmonary', 0.009514097570249862),\n",
       " ('Age_80-90', 0.009098802343591901),\n",
       " ('ChronicCond_stroke', 0.008205969733899258)]"
      ]
     },
     "execution_count": 31,
     "metadata": {},
     "output_type": "execute_result"
    }
   ],
   "source": [
    "# Feature Importance\n",
    "tree_final = rf_Grid.best_estimator_\n",
    "feature_importance = list(zip(X_train.columns, tree_final.feature_importances_))\n",
    "sorted(feature_importance, key=lambda imp: imp[1], reverse=True)"
   ]
  },
  {
   "cell_type": "code",
   "execution_count": 32,
   "metadata": {},
   "outputs": [
    {
     "data": {
      "text/plain": [
       "<BarContainer object of 35 artists>"
      ]
     },
     "execution_count": 32,
     "metadata": {},
     "output_type": "execute_result"
    },
    {
     "data": {
      "image/png": "[encoded data removed]",
      "text/plain": [
       "<Figure size 1152x1440 with 1 Axes>"
      ]
     },
     "metadata": {
      "needs_background": "light"
     },
     "output_type": "display_data"
    }
   ],
   "source": [
    "features, importance = zip(*sorted(feature_importance, key=lambda imp: imp[1], reverse=True))\n",
    "plt.figure(figsize=(16,20))\n",
    "plt.barh(features, importance)"
   ]
  },
  {
   "cell_type": "code",
   "execution_count": 33,
   "metadata": {},
   "outputs": [],
   "source": [
    "from sklearn.model_selection import RandomizedSearchCV\n",
    "rf_RandomGrid = RandomizedSearchCV(estimator = rf_Model, param_distributions = param_grid, cv=KFold(shuffle= True, random_state=1), verbose=2, n_jobs=-1, random_state=1, scoring='roc_auc')"
   ]
  },
  {
   "cell_type": "code",
   "execution_count": 34,
   "metadata": {},
   "outputs": [
    {
     "name": "stdout",
     "output_type": "stream",
     "text": [
      "Fitting 5 folds for each of 10 candidates, totalling 50 fits\n"
     ]
    },
    {
     "data": {
      "text/plain": [
       "RandomizedSearchCV(cv=KFold(n_splits=5, random_state=1, shuffle=True),\n",
       "                   estimator=RandomForestClassifier(random_state=1), n_jobs=-1,\n",
       "                   param_distributions={'criterion': ['gini'],\n",
       "                                        'max_depth': [12, 13, 14],\n",
       "                                        'max_features': [8, 10, 12],\n",
       "                                        'min_samples_leaf': [3, 4, 5],\n",
       "                                        'n_estimators': [100, 200, 300]},\n",
       "                   random_state=1, scoring='roc_auc', verbose=2)"
      ]
     },
     "execution_count": 34,
     "metadata": {},
     "output_type": "execute_result"
    }
   ],
   "source": [
    "rf_RandomGrid.fit(X_train, y_train)"
   ]
  },
  {
   "cell_type": "code",
   "execution_count": 35,
   "metadata": {},
   "outputs": [
    {
     "data": {
      "text/plain": [
       "{'n_estimators': 300,\n",
       " 'min_samples_leaf': 3,\n",
       " 'max_features': 12,\n",
       " 'max_depth': 14,\n",
       " 'criterion': 'gini'}"
      ]
     },
     "execution_count": 35,
     "metadata": {},
     "output_type": "execute_result"
    }
   ],
   "source": [
    "rf_RandomGrid.best_params_"
   ]
  },
  {
   "cell_type": "code",
   "execution_count": 36,
   "metadata": {},
   "outputs": [
    {
     "data": {
      "text/plain": [
       "0.9718894912225678"
      ]
     },
     "execution_count": 36,
     "metadata": {},
     "output_type": "execute_result"
    }
   ],
   "source": [
    "rf_RandomGrid.best_score_"
   ]
  },
  {
   "cell_type": "code",
   "execution_count": 37,
   "metadata": {},
   "outputs": [
    {
     "name": "stdout",
     "output_type": "stream",
     "text": [
      "0.999438367165767\n",
      "0.9385935096067838\n"
     ]
    }
   ],
   "source": [
    "print(rf_RandomGrid.score(X_train, y_train))\n",
    "print(rf_RandomGrid.score(X_test, y_test))\n",
    "\n",
    "# GRID SCORES:\n",
    "# 0.9993964711680519\n",
    "# 0.9356730115567641\n",
    "\n",
    "# RANDOMIZED SCORES:\n",
    "# 0.999438367165767\n",
    "# 0.9385935096067838"
   ]
  },
  {
   "cell_type": "code",
   "execution_count": 45,
   "metadata": {},
   "outputs": [
    {
     "data": {
      "text/plain": [
       "[('DiagnosisGroupCode_count', 0.20805100163855814),\n",
       " ('Unique_DiagnosisGroupCode', 0.14590681382432674),\n",
       " ('ClmAdmitDiagnosisCode_count', 0.09207450728770927),\n",
       " ('Unique_ClmAdmitDiagnosisCode', 0.07529877423943762),\n",
       " ('Avg_Total_ClmProcedureCode', 0.0468117669581084),\n",
       " ('Claim_count', 0.03492716001535024),\n",
       " ('Avg_AdmissionDuration', 0.03113778475494788),\n",
       " ('Unique_patients', 0.02941654270226704),\n",
       " ('Age_50-60', 0.01942237647019818),\n",
       " ('Age_30-40', 0.01796155121353556),\n",
       " ('Unique_States', 0.015854910444427838),\n",
       " ('Avg_TotalClaimCost', 0.015835894071035164),\n",
       " ('Avg_TotalClaimCost_PerPatient', 0.015729648208202232),\n",
       " ('Avg_ClaimDuration', 0.015531078852468527),\n",
       " ('Age_40-50', 0.014586853559262246),\n",
       " ('Avg_Total_ClmDiagnosisCode', 0.013466168713341605),\n",
       " ('ChronicCond_Alzheimer', 0.01289307125411715),\n",
       " ('ChronicCond_IschemicHeart', 0.012851811740072607),\n",
       " ('Unique_County', 0.01276325882987728),\n",
       " ('Age_60-70', 0.012709878947008176),\n",
       " ('Age_70-80', 0.012648563651982114),\n",
       " ('Age_20-30', 0.011210979370300292),\n",
       " ('Age_90-101', 0.010978977835963022),\n",
       " ('ChronicCond_Depression', 0.010922016487652893),\n",
       " ('ChronicCond_Cancer', 0.010834312094403298),\n",
       " ('ChronicCond_Heartfailure', 0.010575916274271034),\n",
       " ('ChronicCond_rheumatoidarthritis', 0.010562611864877098),\n",
       " ('Avg_Total_Physician', 0.010482777467468058),\n",
       " ('RenalDiseaseIndicator', 0.010463953903567013),\n",
       " ('ChronicCond_Osteoporasis', 0.010178932487329097),\n",
       " ('ChronicCond_ObstrPulmonary', 0.010178591844978605),\n",
       " ('ChronicCond_KidneyDisease', 0.010102116492809423),\n",
       " ('ChronicCond_Diabetes', 0.010101337277404301),\n",
       " ('Age_80-90', 0.009317552512516095),\n",
       " ('ChronicCond_stroke', 0.008210506710225805)]"
      ]
     },
     "execution_count": 45,
     "metadata": {},
     "output_type": "execute_result"
    }
   ],
   "source": [
    "# Feature Importance\n",
    "tree_final2 = rf_RandomGrid.best_estimator_\n",
    "feature_importance2 = list(zip(X_train.columns, tree_final2.feature_importances_))\n",
    "sorted(feature_importance2, key=lambda imp: imp[1], reverse=True)"
   ]
  },
  {
   "cell_type": "code",
   "execution_count": 49,
   "metadata": {},
   "outputs": [
    {
     "data": {
      "text/plain": [
       "<BarContainer object of 35 artists>"
      ]
     },
     "execution_count": 49,
     "metadata": {},
     "output_type": "execute_result"
    },
    {
     "data": {
      "image/png": "[encoded data removed]",
      "text/plain": [
       "<Figure size 1152x1440 with 1 Axes>"
      ]
     },
     "metadata": {
      "needs_background": "light"
     },
     "output_type": "display_data"
    }
   ],
   "source": [
    "features, importance = zip(*sorted(feature_importance2, key=lambda imp: imp[1], reverse=False))\n",
    "plt.figure(figsize=(16,20))\n",
    "plt.barh(features, importance)"
   ]
  },
  {
   "cell_type": "code",
   "execution_count": 38,
   "metadata": {},
   "outputs": [
    {
     "data": {
      "text/plain": [
       "array([[1424,   47],\n",
       "       [  58,   94]], dtype=int64)"
      ]
     },
     "execution_count": 38,
     "metadata": {},
     "output_type": "execute_result"
    }
   ],
   "source": [
    "from sklearn.metrics import confusion_matrix\n",
    "y_true = y_test\n",
    "y_pred = rf_RandomGrid.predict(X_test) \n",
    "cmRandom = confusion_matrix(y_true, y_pred)\n",
    "cmRandom"
   ]
  },
  {
   "cell_type": "code",
   "execution_count": 47,
   "metadata": {},
   "outputs": [
    {
     "data": {
      "text/plain": [
       "Text(24.0, 0.5, 'Actual Value')"
      ]
     },
     "execution_count": 47,
     "metadata": {},
     "output_type": "execute_result"
    },
    {
     "data": {
      "image/png": "[encoded data removed]",
      "text/plain": [
       "<Figure size 360x288 with 2 Axes>"
      ]
     },
     "metadata": {
      "needs_background": "light"
     },
     "output_type": "display_data"
    }
   ],
   "source": [
    "plt.figure(figsize=(5,4))\n",
    "sns.heatmap(cmRandom, annot=True, fmt='g')\n",
    "plt.xlabel('Predicted Value')\n",
    "plt.ylabel('Actual Value')"
   ]
  },
  {
   "cell_type": "code",
   "execution_count": 40,
   "metadata": {},
   "outputs": [
    {
     "name": "stdout",
     "output_type": "stream",
     "text": [
      "[[1425   46]\n",
      " [  61   91]]\n",
      "******************************\n",
      "[[1424   47]\n",
      " [  58   94]]\n"
     ]
    }
   ],
   "source": [
    "print(cm) #GRIDSEARCH\n",
    "print(\"******************************\")\n",
    "print(cmRandom) #RANDOMSEARCH "
   ]
  },
  {
   "cell_type": "markdown",
   "metadata": {},
   "source": [
    "For our Random Forest model, we choose the Randomized Grid Search which results in recall of 0.62 and 93.86% AUC_ROC score"
   ]
  },
  {
   "cell_type": "code",
   "execution_count": 42,
   "metadata": {},
   "outputs": [
    {
     "name": "stdout",
     "output_type": "stream",
     "text": [
      "The Recall for GridSearch RandomForest: 0.5986842105263158\n",
      "The Recall for Randomized RandomForest: 0.618421052631579\n"
     ]
    }
   ],
   "source": [
    "print(f\"The Recall for GridSearch RandomForest: {RF_Grid_Recall}\")\n",
    "RF_Randomized_Recall = 94/(94+58)\n",
    "print(f\"The Recall for Randomized RandomForest: {RF_Randomized_Recall}\")"
   ]
  },
  {
   "cell_type": "code",
   "execution_count": null,
   "metadata": {},
   "outputs": [],
   "source": []
  }
 ],
 "metadata": {
  "kernelspec": {
   "display_name": "Python 3",
   "language": "python",
   "name": "python3"
  },
  "language_info": {
   "codemirror_mode": {
    "name": "ipython",
    "version": 3
   },
   "file_extension": ".py",
   "mimetype": "text/x-python",
   "name": "python",
   "nbconvert_exporter": "python",
   "pygments_lexer": "ipython3",
   "version": "3.8.5"
  }
 },
 "nbformat": 4,
 "nbformat_minor": 4
}
