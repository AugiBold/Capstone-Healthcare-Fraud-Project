{
 "cells": [
  {
   "cell_type": "code",
   "execution_count": 1,
   "metadata": {},
   "outputs": [],
   "source": [
    "import numpy as np\n",
    "import pandas as pd\n",
    "%matplotlib inline \n",
    "import seaborn as sns\n",
    "from matplotlib import pyplot as plt\n",
    "import matplotlib.pyplot as plt\n",
    "from sklearn.preprocessing import LabelEncoder\n",
    "from sklearn.preprocessing import OrdinalEncoder\n",
    "import sklearn.model_selection as ms\n",
    "from sklearn.model_selection import train_test_split\n",
    "from sklearn.metrics import confusion_matrix\n",
    "from sklearn.model_selection import StratifiedShuffleSplit\n",
    "from sklearn import svm\n",
    "from sklearn.svm import SVC\n",
    "\n",
    "from sklearn.model_selection import GridSearchCV, KFold \n",
    "from sklearn.metrics import confusion_matrix, classification_report, recall_score, make_scorer, accuracy_score, balanced_accuracy_score, f1_score, precision_score, roc_auc_score\n",
    "\n",
    "X_train = pd.read_csv('./X_train.csv', index_col=0)\n",
    "X_test = pd.read_csv('./X_test.csv', index_col=0)\n",
    "y_train = pd.read_csv('./y_train.csv', index_col=0)\n",
    "y_test = pd.read_csv('./y_test.csv', index_col=0)"
   ]
  },
  {
   "cell_type": "code",
   "execution_count": 2,
   "metadata": {},
   "outputs": [
    {
     "data": {
      "text/html": [
       "<div>\n",
       "<style scoped>\n",
       "    .dataframe tbody tr th:only-of-type {\n",
       "        vertical-align: middle;\n",
       "    }\n",
       "\n",
       "    .dataframe tbody tr th {\n",
       "        vertical-align: top;\n",
       "    }\n",
       "\n",
       "    .dataframe thead th {\n",
       "        text-align: right;\n",
       "    }\n",
       "</style>\n",
       "<table border=\"1\" class=\"dataframe\">\n",
       "  <thead>\n",
       "    <tr style=\"text-align: right;\">\n",
       "      <th></th>\n",
       "      <th>Unique_County</th>\n",
       "      <th>Unique_States</th>\n",
       "      <th>Avg_AdmissionDuration</th>\n",
       "      <th>Avg_ClaimDuration</th>\n",
       "      <th>Avg_Total_ClmProcedureCode</th>\n",
       "      <th>Avg_Total_ClmDiagnosisCode</th>\n",
       "      <th>DiagnosisGroupCode_count</th>\n",
       "      <th>Unique_DiagnosisGroupCode</th>\n",
       "      <th>ClmAdmitDiagnosisCode_count</th>\n",
       "      <th>Unique_ClmAdmitDiagnosisCode</th>\n",
       "      <th>...</th>\n",
       "      <th>ChronicCond_rheumatoidarthritis</th>\n",
       "      <th>ChronicCond_stroke</th>\n",
       "      <th>Age_20-30</th>\n",
       "      <th>Age_30-40</th>\n",
       "      <th>Age_40-50</th>\n",
       "      <th>Age_50-60</th>\n",
       "      <th>Age_60-70</th>\n",
       "      <th>Age_70-80</th>\n",
       "      <th>Age_80-90</th>\n",
       "      <th>Age_90-101</th>\n",
       "    </tr>\n",
       "  </thead>\n",
       "  <tbody>\n",
       "    <tr>\n",
       "      <th>0</th>\n",
       "      <td>-0.166326</td>\n",
       "      <td>-0.524122</td>\n",
       "      <td>-0.425291</td>\n",
       "      <td>0.339014</td>\n",
       "      <td>-0.437440</td>\n",
       "      <td>-0.537097</td>\n",
       "      <td>-0.336670</td>\n",
       "      <td>-0.359205</td>\n",
       "      <td>-0.058553</td>\n",
       "      <td>0.010156</td>\n",
       "      <td>...</td>\n",
       "      <td>0.35</td>\n",
       "      <td>0.07</td>\n",
       "      <td>0.00</td>\n",
       "      <td>0.02</td>\n",
       "      <td>0.07</td>\n",
       "      <td>0.15</td>\n",
       "      <td>0.16</td>\n",
       "      <td>0.27</td>\n",
       "      <td>0.27</td>\n",
       "      <td>0.05</td>\n",
       "    </tr>\n",
       "    <tr>\n",
       "      <th>1</th>\n",
       "      <td>0.025710</td>\n",
       "      <td>-0.182495</td>\n",
       "      <td>-0.425291</td>\n",
       "      <td>-0.790589</td>\n",
       "      <td>-0.437440</td>\n",
       "      <td>0.187966</td>\n",
       "      <td>-0.336670</td>\n",
       "      <td>-0.359205</td>\n",
       "      <td>-0.341867</td>\n",
       "      <td>-0.431924</td>\n",
       "      <td>...</td>\n",
       "      <td>0.37</td>\n",
       "      <td>0.16</td>\n",
       "      <td>0.00</td>\n",
       "      <td>0.00</td>\n",
       "      <td>0.05</td>\n",
       "      <td>0.00</td>\n",
       "      <td>0.00</td>\n",
       "      <td>0.63</td>\n",
       "      <td>0.26</td>\n",
       "      <td>0.05</td>\n",
       "    </tr>\n",
       "    <tr>\n",
       "      <th>2</th>\n",
       "      <td>0.217745</td>\n",
       "      <td>0.159131</td>\n",
       "      <td>-0.425291</td>\n",
       "      <td>-0.173476</td>\n",
       "      <td>-0.437440</td>\n",
       "      <td>-0.283265</td>\n",
       "      <td>-0.336670</td>\n",
       "      <td>-0.359205</td>\n",
       "      <td>-0.310387</td>\n",
       "      <td>-0.376664</td>\n",
       "      <td>...</td>\n",
       "      <td>0.35</td>\n",
       "      <td>0.09</td>\n",
       "      <td>0.04</td>\n",
       "      <td>0.00</td>\n",
       "      <td>0.00</td>\n",
       "      <td>0.04</td>\n",
       "      <td>0.09</td>\n",
       "      <td>0.48</td>\n",
       "      <td>0.35</td>\n",
       "      <td>0.00</td>\n",
       "    </tr>\n",
       "    <tr>\n",
       "      <th>3</th>\n",
       "      <td>-0.742434</td>\n",
       "      <td>-0.524122</td>\n",
       "      <td>-0.425291</td>\n",
       "      <td>0.439202</td>\n",
       "      <td>-0.437440</td>\n",
       "      <td>-0.814006</td>\n",
       "      <td>-0.336670</td>\n",
       "      <td>-0.359205</td>\n",
       "      <td>-0.310387</td>\n",
       "      <td>-0.376664</td>\n",
       "      <td>...</td>\n",
       "      <td>0.37</td>\n",
       "      <td>0.11</td>\n",
       "      <td>0.00</td>\n",
       "      <td>0.05</td>\n",
       "      <td>0.05</td>\n",
       "      <td>0.05</td>\n",
       "      <td>0.11</td>\n",
       "      <td>0.39</td>\n",
       "      <td>0.29</td>\n",
       "      <td>0.05</td>\n",
       "    </tr>\n",
       "    <tr>\n",
       "      <th>4</th>\n",
       "      <td>0.217745</td>\n",
       "      <td>0.159131</td>\n",
       "      <td>-0.002242</td>\n",
       "      <td>-0.177867</td>\n",
       "      <td>0.223641</td>\n",
       "      <td>-0.182171</td>\n",
       "      <td>0.341722</td>\n",
       "      <td>0.414753</td>\n",
       "      <td>0.130323</td>\n",
       "      <td>0.341716</td>\n",
       "      <td>...</td>\n",
       "      <td>0.22</td>\n",
       "      <td>0.12</td>\n",
       "      <td>0.00</td>\n",
       "      <td>0.03</td>\n",
       "      <td>0.07</td>\n",
       "      <td>0.05</td>\n",
       "      <td>0.15</td>\n",
       "      <td>0.37</td>\n",
       "      <td>0.25</td>\n",
       "      <td>0.08</td>\n",
       "    </tr>\n",
       "  </tbody>\n",
       "</table>\n",
       "<p>5 rows × 35 columns</p>\n",
       "</div>"
      ],
      "text/plain": [
       "   Unique_County  Unique_States  Avg_AdmissionDuration  Avg_ClaimDuration  \\\n",
       "0      -0.166326      -0.524122              -0.425291           0.339014   \n",
       "1       0.025710      -0.182495              -0.425291          -0.790589   \n",
       "2       0.217745       0.159131              -0.425291          -0.173476   \n",
       "3      -0.742434      -0.524122              -0.425291           0.439202   \n",
       "4       0.217745       0.159131              -0.002242          -0.177867   \n",
       "\n",
       "   Avg_Total_ClmProcedureCode  Avg_Total_ClmDiagnosisCode  \\\n",
       "0                   -0.437440                   -0.537097   \n",
       "1                   -0.437440                    0.187966   \n",
       "2                   -0.437440                   -0.283265   \n",
       "3                   -0.437440                   -0.814006   \n",
       "4                    0.223641                   -0.182171   \n",
       "\n",
       "   DiagnosisGroupCode_count  Unique_DiagnosisGroupCode  \\\n",
       "0                 -0.336670                  -0.359205   \n",
       "1                 -0.336670                  -0.359205   \n",
       "2                 -0.336670                  -0.359205   \n",
       "3                 -0.336670                  -0.359205   \n",
       "4                  0.341722                   0.414753   \n",
       "\n",
       "   ClmAdmitDiagnosisCode_count  Unique_ClmAdmitDiagnosisCode  ...  \\\n",
       "0                    -0.058553                      0.010156  ...   \n",
       "1                    -0.341867                     -0.431924  ...   \n",
       "2                    -0.310387                     -0.376664  ...   \n",
       "3                    -0.310387                     -0.376664  ...   \n",
       "4                     0.130323                      0.341716  ...   \n",
       "\n",
       "   ChronicCond_rheumatoidarthritis  ChronicCond_stroke  Age_20-30  Age_30-40  \\\n",
       "0                             0.35                0.07       0.00       0.02   \n",
       "1                             0.37                0.16       0.00       0.00   \n",
       "2                             0.35                0.09       0.04       0.00   \n",
       "3                             0.37                0.11       0.00       0.05   \n",
       "4                             0.22                0.12       0.00       0.03   \n",
       "\n",
       "   Age_40-50  Age_50-60  Age_60-70  Age_70-80  Age_80-90  Age_90-101  \n",
       "0       0.07       0.15       0.16       0.27       0.27        0.05  \n",
       "1       0.05       0.00       0.00       0.63       0.26        0.05  \n",
       "2       0.00       0.04       0.09       0.48       0.35        0.00  \n",
       "3       0.05       0.05       0.11       0.39       0.29        0.05  \n",
       "4       0.07       0.05       0.15       0.37       0.25        0.08  \n",
       "\n",
       "[5 rows x 35 columns]"
      ]
     },
     "execution_count": 2,
     "metadata": {},
     "output_type": "execute_result"
    }
   ],
   "source": [
    "X_train.head()"
   ]
  },
  {
   "cell_type": "code",
   "execution_count": 3,
   "metadata": {},
   "outputs": [
    {
     "data": {
      "text/plain": [
       "(4462, 35)"
      ]
     },
     "execution_count": 3,
     "metadata": {},
     "output_type": "execute_result"
    }
   ],
   "source": [
    "X_train.shape"
   ]
  },
  {
   "cell_type": "code",
   "execution_count": 4,
   "metadata": {},
   "outputs": [],
   "source": [
    "y_train = pd.Series(y_train['PotentialFraud'], dtype='int32')"
   ]
  },
  {
   "cell_type": "code",
   "execution_count": 5,
   "metadata": {},
   "outputs": [],
   "source": [
    "y_test = pd.Series(y_test['PotentialFraud'], dtype='int32')"
   ]
  },
  {
   "cell_type": "code",
   "execution_count": 6,
   "metadata": {},
   "outputs": [],
   "source": [
    "svm= svm.SVC(random_state=1) \n",
    "\n",
    "param_grid_svm = [\n",
    "#     {'C': range(2000, 4500, 300), #opposite of lasso C penalty\n",
    "#      'kernel': ['poly'], #nonlinear  ~ CURVY/bendy, solves for alpha \n",
    "#      'degree': [3, 4, 5]}, #nonlinear - degree of polynomial \n",
    "    \n",
    "    {'C': range(2000, 4500, 300), #how much you want to penalize (higher C means possible overfitting)\n",
    "     'gamma': np.logspace(-2, -4, 5), # width of the RBF curve, hyperparameter for rbf kernel, larger gamma is the smaller sd is \n",
    "     #thin the radial\n",
    "     'kernel': ['rbf']} # nonlinear, oval/circle (no degree for rbf) RADIAL (default)\n",
    "]  \n",
    "#Bo is coef0 "
   ]
  },
  {
   "cell_type": "code",
   "execution_count": 7,
   "metadata": {},
   "outputs": [
    {
     "name": "stdout",
     "output_type": "stream",
     "text": [
      "Fitting 5 folds for each of 45 candidates, totalling 225 fits\n"
     ]
    },
    {
     "data": {
      "text/plain": [
       "GridSearchCV(cv=KFold(n_splits=5, random_state=1, shuffle=True),\n",
       "             estimator=SVC(random_state=1), n_jobs=-1,\n",
       "             param_grid=[{'C': range(2000, 4500, 300),\n",
       "                          'gamma': array([0.01      , 0.00316228, 0.001     , 0.00031623, 0.0001    ]),\n",
       "                          'kernel': ['rbf']}],\n",
       "             return_train_score=True, scoring='roc_auc', verbose=2)"
      ]
     },
     "execution_count": 7,
     "metadata": {},
     "output_type": "execute_result"
    }
   ],
   "source": [
    "svm_search = GridSearchCV(svm, param_grid_svm, scoring='roc_auc', cv=KFold(shuffle= True, random_state=1), verbose=2, return_train_score=True, n_jobs=-1)\n",
    "svm_search.fit(X_train, y_train)"
   ]
  },
  {
   "cell_type": "code",
   "execution_count": 12,
   "metadata": {},
   "outputs": [
    {
     "name": "stdout",
     "output_type": "stream",
     "text": [
      "{'C': 3800, 'gamma': 0.01, 'kernel': 'rbf'}\n",
      "0.9504962160338015\n",
      "0.9808252209376946\n",
      "0.8881131704175463\n"
     ]
    }
   ],
   "source": [
    "print(svm_search.best_params_)\n",
    "print(svm_search.best_score_)\n",
    "print(svm_search.score(X_train, y_train))\n",
    "print(svm_search.score(X_test, y_test))\n",
    "\n",
    "# Poly:\n",
    "# {'C': 3800, 'degree': 3, 'kernel': 'poly'}\n",
    "# 0.9506464831869863\n",
    "# 0.9941062522133403\n",
    "# 0.853241618662564\n",
    "\n",
    "# RBF:\n",
    "# {'C': 3800, 'gamma': 0.01, 'kernel': 'rbf'}\n",
    "# 0.9504962160338015\n",
    "# 0.9808252209376946\n",
    "# 0.8881131704175463 "
   ]
  },
  {
   "cell_type": "code",
   "execution_count": 9,
   "metadata": {},
   "outputs": [
    {
     "data": {
      "text/plain": [
       "array([[1380,   91],\n",
       "       [  49,  103]], dtype=int64)"
      ]
     },
     "execution_count": 9,
     "metadata": {},
     "output_type": "execute_result"
    }
   ],
   "source": [
    "from sklearn.metrics import confusion_matrix\n",
    "y_true = y_test\n",
    "y_pred = svm_search.predict(X_test) \n",
    "cmSVM = confusion_matrix(y_true, y_pred)\n",
    "cmSVM\n",
    "\n",
    "# # Poly\n",
    "# array([[1376,   95],\n",
    "#        [  47,  105]], dtype=int64)\n",
    "\n",
    "# RBF:\n",
    "# array([[1380,   91],\n",
    "#        [  49,  103]], dtype=int64)"
   ]
  },
  {
   "cell_type": "code",
   "execution_count": 10,
   "metadata": {},
   "outputs": [
    {
     "data": {
      "text/plain": [
       "Text(24.0, 0.5, 'Actual Value')"
      ]
     },
     "execution_count": 10,
     "metadata": {},
     "output_type": "execute_result"
    },
    {
     "data": {
      "image/png": "[encoded data removed]",
      "text/plain": [
       "<Figure size 360x288 with 2 Axes>"
      ]
     },
     "metadata": {
      "needs_background": "light"
     },
     "output_type": "display_data"
    }
   ],
   "source": [
    "plt.figure(figsize=(5,4))\n",
    "sns.heatmap(cmSVM, annot=True,fmt='g')\n",
    "plt.xlabel('Predicted Value')\n",
    "plt.ylabel('Actual Value')"
   ]
  },
  {
   "cell_type": "markdown",
   "metadata": {},
   "source": [
    "For our 2nd Nonlinear model - SVM, we choose the kernel rbf which results in Recall of 0.68 and AUC_ROC score 88.81% "
   ]
  },
  {
   "cell_type": "code",
   "execution_count": 11,
   "metadata": {},
   "outputs": [
    {
     "name": "stdout",
     "output_type": "stream",
     "text": [
      "The Recall for SVM Polly: 0.6907894736842105\n",
      "The Recall for SVM RBF: 0.6776315789473685\n"
     ]
    }
   ],
   "source": [
    "Recall_polly = 105/(105+47)\n",
    "Recall_polly #0.6907894736842105\n",
    "\n",
    "Recall_rbf = 103/(103+49)\n",
    "print(f\"The Recall for SVM Polly: {Recall_polly}\")\n",
    "print(f\"The Recall for SVM RBF: {Recall_rbf}\")"
   ]
  },
  {
   "cell_type": "code",
   "execution_count": null,
   "metadata": {},
   "outputs": [],
   "source": []
  }
 ],
 "metadata": {
  "kernelspec": {
   "display_name": "Python 3",
   "language": "python",
   "name": "python3"
  },
  "language_info": {
   "codemirror_mode": {
    "name": "ipython",
    "version": 3
   },
   "file_extension": ".py",
   "mimetype": "text/x-python",
   "name": "python",
   "nbconvert_exporter": "python",
   "pygments_lexer": "ipython3",
   "version": "3.8.5"
  }
 },
 "nbformat": 4,
 "nbformat_minor": 4
}
