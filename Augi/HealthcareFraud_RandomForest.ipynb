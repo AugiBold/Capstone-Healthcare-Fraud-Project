{
 "cells": [
  {
   "cell_type": "markdown",
   "metadata": {},
   "source": [
    "This notebook reads in the datasets that are already upsampled, standard-scaled, and train-test-split so we can use the same initial features (35) for consistency for RandomForest from Linear Models.    "
   ]
  },
  {
   "cell_type": "code",
   "execution_count": 57,
   "metadata": {},
   "outputs": [],
   "source": [
    "import numpy as np\n",
    "import pandas as pd\n",
    "%matplotlib inline \n",
    "import seaborn as sns\n",
    "from matplotlib import pyplot as plt\n",
    "import matplotlib.pyplot as plt\n",
    "from sklearn.preprocessing import LabelEncoder\n",
    "from sklearn.preprocessing import OrdinalEncoder\n",
    "import sklearn.model_selection as ms\n",
    "from sklearn.model_selection import train_test_split\n",
    "from sklearn.metrics import confusion_matrix\n",
    "from sklearn.model_selection import StratifiedShuffleSplit\n",
    "\n",
    "X_train = pd.read_csv('./X_train.csv', index_col=0)\n",
    "X_test = pd.read_csv('./X_test.csv', index_col=0)\n",
    "y_train = pd.read_csv('./y_train.csv', index_col=0)\n",
    "y_test = pd.read_csv('./y_test.csv', index_col=0)"
   ]
  },
  {
   "cell_type": "code",
   "execution_count": 58,
   "metadata": {},
   "outputs": [
    {
     "data": {
      "text/html": [
       "<div>\n",
       "<style scoped>\n",
       "    .dataframe tbody tr th:only-of-type {\n",
       "        vertical-align: middle;\n",
       "    }\n",
       "\n",
       "    .dataframe tbody tr th {\n",
       "        vertical-align: top;\n",
       "    }\n",
       "\n",
       "    .dataframe thead th {\n",
       "        text-align: right;\n",
       "    }\n",
       "</style>\n",
       "<table border=\"1\" class=\"dataframe\">\n",
       "  <thead>\n",
       "    <tr style=\"text-align: right;\">\n",
       "      <th></th>\n",
       "      <th>Unique_County</th>\n",
       "      <th>Unique_States</th>\n",
       "      <th>Avg_AdmissionDuration</th>\n",
       "      <th>Avg_ClaimDuration</th>\n",
       "      <th>Avg_Total_ClmProcedureCode</th>\n",
       "      <th>Avg_Total_ClmDiagnosisCode</th>\n",
       "      <th>DiagnosisGroupCode_count</th>\n",
       "      <th>Unique_DiagnosisGroupCode</th>\n",
       "      <th>ClmAdmitDiagnosisCode_count</th>\n",
       "      <th>Unique_ClmAdmitDiagnosisCode</th>\n",
       "      <th>...</th>\n",
       "      <th>ChronicCond_rheumatoidarthritis</th>\n",
       "      <th>ChronicCond_stroke</th>\n",
       "      <th>Age_20-30</th>\n",
       "      <th>Age_30-40</th>\n",
       "      <th>Age_40-50</th>\n",
       "      <th>Age_50-60</th>\n",
       "      <th>Age_60-70</th>\n",
       "      <th>Age_70-80</th>\n",
       "      <th>Age_80-90</th>\n",
       "      <th>Age_90-101</th>\n",
       "    </tr>\n",
       "  </thead>\n",
       "  <tbody>\n",
       "    <tr>\n",
       "      <th>3593</th>\n",
       "      <td>-0.726554</td>\n",
       "      <td>-0.625131</td>\n",
       "      <td>2.348460</td>\n",
       "      <td>1.933499</td>\n",
       "      <td>3.433855</td>\n",
       "      <td>1.468203</td>\n",
       "      <td>-0.256642</td>\n",
       "      <td>-0.249839</td>\n",
       "      <td>-0.468208</td>\n",
       "      <td>-0.522145</td>\n",
       "      <td>...</td>\n",
       "      <td>0.45</td>\n",
       "      <td>0.00</td>\n",
       "      <td>0.00</td>\n",
       "      <td>0.00</td>\n",
       "      <td>0.00</td>\n",
       "      <td>0.18</td>\n",
       "      <td>0.18</td>\n",
       "      <td>0.27</td>\n",
       "      <td>0.36</td>\n",
       "      <td>0.00</td>\n",
       "    </tr>\n",
       "    <tr>\n",
       "      <th>2495</th>\n",
       "      <td>0.038377</td>\n",
       "      <td>0.272537</td>\n",
       "      <td>-0.076676</td>\n",
       "      <td>-0.354683</td>\n",
       "      <td>-0.119036</td>\n",
       "      <td>-0.082437</td>\n",
       "      <td>0.667357</td>\n",
       "      <td>0.788190</td>\n",
       "      <td>0.240953</td>\n",
       "      <td>0.460143</td>\n",
       "      <td>...</td>\n",
       "      <td>0.28</td>\n",
       "      <td>0.12</td>\n",
       "      <td>0.01</td>\n",
       "      <td>0.02</td>\n",
       "      <td>0.01</td>\n",
       "      <td>0.04</td>\n",
       "      <td>0.22</td>\n",
       "      <td>0.38</td>\n",
       "      <td>0.21</td>\n",
       "      <td>0.12</td>\n",
       "    </tr>\n",
       "    <tr>\n",
       "      <th>952</th>\n",
       "      <td>-0.344089</td>\n",
       "      <td>-0.625131</td>\n",
       "      <td>0.668451</td>\n",
       "      <td>0.869776</td>\n",
       "      <td>0.385406</td>\n",
       "      <td>0.537213</td>\n",
       "      <td>-0.212642</td>\n",
       "      <td>-0.196607</td>\n",
       "      <td>-0.442263</td>\n",
       "      <td>-0.537988</td>\n",
       "      <td>...</td>\n",
       "      <td>0.22</td>\n",
       "      <td>0.09</td>\n",
       "      <td>0.00</td>\n",
       "      <td>0.03</td>\n",
       "      <td>0.03</td>\n",
       "      <td>0.06</td>\n",
       "      <td>0.06</td>\n",
       "      <td>0.44</td>\n",
       "      <td>0.28</td>\n",
       "      <td>0.09</td>\n",
       "    </tr>\n",
       "    <tr>\n",
       "      <th>1910</th>\n",
       "      <td>0.038377</td>\n",
       "      <td>-0.400714</td>\n",
       "      <td>0.996046</td>\n",
       "      <td>0.844569</td>\n",
       "      <td>0.760366</td>\n",
       "      <td>1.191422</td>\n",
       "      <td>0.315357</td>\n",
       "      <td>0.335716</td>\n",
       "      <td>-0.174165</td>\n",
       "      <td>-0.031001</td>\n",
       "      <td>...</td>\n",
       "      <td>0.39</td>\n",
       "      <td>0.10</td>\n",
       "      <td>0.00</td>\n",
       "      <td>0.00</td>\n",
       "      <td>0.02</td>\n",
       "      <td>0.06</td>\n",
       "      <td>0.22</td>\n",
       "      <td>0.51</td>\n",
       "      <td>0.16</td>\n",
       "      <td>0.04</td>\n",
       "    </tr>\n",
       "    <tr>\n",
       "      <th>2219</th>\n",
       "      <td>2.078190</td>\n",
       "      <td>3.863209</td>\n",
       "      <td>-0.210402</td>\n",
       "      <td>-0.251295</td>\n",
       "      <td>-0.272617</td>\n",
       "      <td>-0.231894</td>\n",
       "      <td>1.327356</td>\n",
       "      <td>1.506826</td>\n",
       "      <td>1.071190</td>\n",
       "      <td>1.394900</td>\n",
       "      <td>...</td>\n",
       "      <td>0.32</td>\n",
       "      <td>0.11</td>\n",
       "      <td>0.01</td>\n",
       "      <td>0.02</td>\n",
       "      <td>0.02</td>\n",
       "      <td>0.07</td>\n",
       "      <td>0.18</td>\n",
       "      <td>0.34</td>\n",
       "      <td>0.28</td>\n",
       "      <td>0.09</td>\n",
       "    </tr>\n",
       "  </tbody>\n",
       "</table>\n",
       "<p>5 rows × 35 columns</p>\n",
       "</div>"
      ],
      "text/plain": [
       "      Unique_County  Unique_States  Avg_AdmissionDuration  Avg_ClaimDuration  \\\n",
       "3593      -0.726554      -0.625131               2.348460           1.933499   \n",
       "2495       0.038377       0.272537              -0.076676          -0.354683   \n",
       "952       -0.344089      -0.625131               0.668451           0.869776   \n",
       "1910       0.038377      -0.400714               0.996046           0.844569   \n",
       "2219       2.078190       3.863209              -0.210402          -0.251295   \n",
       "\n",
       "      Avg_Total_ClmProcedureCode  Avg_Total_ClmDiagnosisCode  \\\n",
       "3593                    3.433855                    1.468203   \n",
       "2495                   -0.119036                   -0.082437   \n",
       "952                     0.385406                    0.537213   \n",
       "1910                    0.760366                    1.191422   \n",
       "2219                   -0.272617                   -0.231894   \n",
       "\n",
       "      DiagnosisGroupCode_count  Unique_DiagnosisGroupCode  \\\n",
       "3593                 -0.256642                  -0.249839   \n",
       "2495                  0.667357                   0.788190   \n",
       "952                  -0.212642                  -0.196607   \n",
       "1910                  0.315357                   0.335716   \n",
       "2219                  1.327356                   1.506826   \n",
       "\n",
       "      ClmAdmitDiagnosisCode_count  Unique_ClmAdmitDiagnosisCode  ...  \\\n",
       "3593                    -0.468208                     -0.522145  ...   \n",
       "2495                     0.240953                      0.460143  ...   \n",
       "952                     -0.442263                     -0.537988  ...   \n",
       "1910                    -0.174165                     -0.031001  ...   \n",
       "2219                     1.071190                      1.394900  ...   \n",
       "\n",
       "      ChronicCond_rheumatoidarthritis  ChronicCond_stroke  Age_20-30  \\\n",
       "3593                             0.45                0.00       0.00   \n",
       "2495                             0.28                0.12       0.01   \n",
       "952                              0.22                0.09       0.00   \n",
       "1910                             0.39                0.10       0.00   \n",
       "2219                             0.32                0.11       0.01   \n",
       "\n",
       "      Age_30-40  Age_40-50  Age_50-60  Age_60-70  Age_70-80  Age_80-90  \\\n",
       "3593       0.00       0.00       0.18       0.18       0.27       0.36   \n",
       "2495       0.02       0.01       0.04       0.22       0.38       0.21   \n",
       "952        0.03       0.03       0.06       0.06       0.44       0.28   \n",
       "1910       0.00       0.02       0.06       0.22       0.51       0.16   \n",
       "2219       0.02       0.02       0.07       0.18       0.34       0.28   \n",
       "\n",
       "      Age_90-101  \n",
       "3593        0.00  \n",
       "2495        0.12  \n",
       "952         0.09  \n",
       "1910        0.04  \n",
       "2219        0.09  \n",
       "\n",
       "[5 rows x 35 columns]"
      ]
     },
     "execution_count": 58,
     "metadata": {},
     "output_type": "execute_result"
    }
   ],
   "source": [
    "X_train.head()"
   ]
  },
  {
   "cell_type": "code",
   "execution_count": 59,
   "metadata": {},
   "outputs": [
    {
     "data": {
      "text/plain": [
       "(6865, 35)"
      ]
     },
     "execution_count": 59,
     "metadata": {},
     "output_type": "execute_result"
    }
   ],
   "source": [
    "X_train.shape"
   ]
  },
  {
   "cell_type": "code",
   "execution_count": 60,
   "metadata": {},
   "outputs": [
    {
     "data": {
      "text/plain": [
       "(2943, 35)"
      ]
     },
     "execution_count": 60,
     "metadata": {},
     "output_type": "execute_result"
    }
   ],
   "source": [
    "X_test.shape"
   ]
  },
  {
   "cell_type": "code",
   "execution_count": 61,
   "metadata": {},
   "outputs": [],
   "source": [
    "y_train = pd.Series(y_train['PotentialFraud'], dtype='int32')"
   ]
  },
  {
   "cell_type": "code",
   "execution_count": 62,
   "metadata": {},
   "outputs": [],
   "source": [
    "y_test = pd.Series(y_test['PotentialFraud'], dtype='int32')"
   ]
  },
  {
   "cell_type": "code",
   "execution_count": 120,
   "metadata": {},
   "outputs": [],
   "source": [
    "param_grid = {\n",
    "    'criterion': ['gini'],\n",
    "    'n_estimators': [100, 200, 300],\n",
    "    'max_depth': [12, 13, 14], # 2 to the power of # of obs. \n",
    "    'max_features': [8,10,12],\n",
    "    'min_samples_leaf': [3,4,5]\n",
    "}\n",
    "# {'n_estimators': 100,\n",
    "#  'min_samples_leaf': 4,\n",
    "#  'max_features': 10,\n",
    "#  'max_depth': 13,\n",
    "#  'criterion': 'gini'} RANDOMGRID "
   ]
  },
  {
   "cell_type": "code",
   "execution_count": 121,
   "metadata": {},
   "outputs": [],
   "source": [
    "from sklearn.ensemble import RandomForestClassifier \n",
    "rf_Model = RandomForestClassifier(random_state=1)  \n",
    "\n",
    "from sklearn.model_selection import GridSearchCV, KFold \n",
    "rf_Grid = GridSearchCV(estimator=rf_Model, param_grid = param_grid, cv=KFold(shuffle= True, random_state=1), verbose=2, n_jobs=-1, scoring='roc_auc')"
   ]
  },
  {
   "cell_type": "code",
   "execution_count": 122,
   "metadata": {},
   "outputs": [
    {
     "name": "stdout",
     "output_type": "stream",
     "text": [
      "Fitting 5 folds for each of 81 candidates, totalling 405 fits\n"
     ]
    },
    {
     "name": "stderr",
     "output_type": "stream",
     "text": [
      "[Parallel(n_jobs=-1)]: Using backend LokyBackend with 8 concurrent workers.\n",
      "[Parallel(n_jobs=-1)]: Done  25 tasks      | elapsed:   14.9s\n",
      "[Parallel(n_jobs=-1)]: Done 146 tasks      | elapsed:  1.5min\n",
      "[Parallel(n_jobs=-1)]: Done 349 tasks      | elapsed:  3.7min\n",
      "[Parallel(n_jobs=-1)]: Done 405 out of 405 | elapsed:  4.5min finished\n"
     ]
    },
    {
     "data": {
      "text/plain": [
       "GridSearchCV(cv=KFold(n_splits=5, random_state=1, shuffle=True),\n",
       "             estimator=RandomForestClassifier(random_state=1), n_jobs=-1,\n",
       "             param_grid={'criterion': ['gini'], 'max_depth': [12, 13, 14],\n",
       "                         'max_features': [8, 10, 12],\n",
       "                         'min_samples_leaf': [3, 4, 5],\n",
       "                         'n_estimators': [100, 200, 300]},\n",
       "             scoring='roc_auc', verbose=2)"
      ]
     },
     "execution_count": 122,
     "metadata": {},
     "output_type": "execute_result"
    }
   ],
   "source": [
    "rf_Grid.fit(X_train, y_train)"
   ]
  },
  {
   "cell_type": "code",
   "execution_count": 123,
   "metadata": {},
   "outputs": [
    {
     "data": {
      "text/plain": [
       "{'criterion': 'gini',\n",
       " 'max_depth': 14,\n",
       " 'max_features': 12,\n",
       " 'min_samples_leaf': 3,\n",
       " 'n_estimators': 200}"
      ]
     },
     "execution_count": 123,
     "metadata": {},
     "output_type": "execute_result"
    }
   ],
   "source": [
    "rf_Grid.best_params_\n",
    "\n",
    "# 1st Grid:\n",
    "# {'criterion': 'gini',\n",
    "#  'max_depth': 14,\n",
    "#  'max_features': 12,\n",
    "#  'min_samples_leaf': 3,\n",
    "#  'n_estimators': 200}\n",
    "\n",
    "# 2nd Grid:\n",
    "# {'criterion': 'gini',\n",
    "#  'max_depth': 14,\n",
    "#  'max_features': 12,\n",
    "#  'min_samples_leaf': 3,\n",
    "#  'n_estimators': 200}\n",
    "\n",
    "# 3rd Grid:\n",
    "# {'criterion': 'gini',\n",
    "#  'max_depth': 14,\n",
    "#  'max_features': 12,\n",
    "#  'min_samples_leaf': 3,\n",
    "#  'n_estimators': 200}"
   ]
  },
  {
   "cell_type": "code",
   "execution_count": 125,
   "metadata": {},
   "outputs": [
    {
     "data": {
      "text/plain": [
       "0.9956645627847251"
      ]
     },
     "execution_count": 125,
     "metadata": {},
     "output_type": "execute_result"
    }
   ],
   "source": [
    "rf_Grid.best_score_\n",
    "# CV_1: 0.9956645627847251\n",
    "\n",
    "# 2:0.9956645627847251\n",
    "\n",
    "# 3:0.9956645627847251"
   ]
  },
  {
   "cell_type": "code",
   "execution_count": 126,
   "metadata": {},
   "outputs": [
    {
     "name": "stdout",
     "output_type": "stream",
     "text": [
      "0.9999842132655421\n",
      "0.9966124786403732\n"
     ]
    }
   ],
   "source": [
    "print(rf_Grid.score(X_train, y_train))\n",
    "print(rf_Grid.score(X_test, y_test))\n",
    "# # Initial GridSearch:\n",
    "# 0.9999842132655421\n",
    "# 0.9966124786403732\n",
    "\n",
    "# 2:\n",
    "# 0.9999842132655421\n",
    "# 0.9966124786403732\n",
    "\n",
    "# 3: \n",
    "# 0.9999842132655421\n",
    "# 0.9966124786403732"
   ]
  },
  {
   "cell_type": "code",
   "execution_count": 141,
   "metadata": {},
   "outputs": [
    {
     "data": {
      "text/plain": [
       "array([[1374,  101],\n",
       "       [   5, 1463]], dtype=int64)"
      ]
     },
     "execution_count": 141,
     "metadata": {},
     "output_type": "execute_result"
    }
   ],
   "source": [
    "from sklearn.metrics import confusion_matrix\n",
    "y_true = y_test\n",
    "y_pred = rf_Grid.best_estimator_.predict(X_test) \n",
    "cm = confusion_matrix(y_true, y_pred)\n",
    "cm\n",
    "\n",
    "# 1st Grid:\n",
    "#     array([[1374,  101],\n",
    "#        [   5, 1463]]\n",
    "\n",
    "# 2nd:\n",
    "#     array([[1374,  101],\n",
    "#        [   5, 1463]],\n",
    "\n",
    "# 3rd: \n",
    "#     array([[1374,  101],\n",
    "#        [   5, 1463]],"
   ]
  },
  {
   "cell_type": "code",
   "execution_count": 142,
   "metadata": {},
   "outputs": [
    {
     "data": {
      "text/plain": [
       "Text(24.0, 0.5, 'Actual Value')"
      ]
     },
     "execution_count": 142,
     "metadata": {},
     "output_type": "execute_result"
    },
    {
     "data": {
      "image/png": "[encoded data removed]",
      "text/plain": [
       "<Figure size 360x288 with 2 Axes>"
      ]
     },
     "metadata": {
      "needs_background": "light"
     },
     "output_type": "display_data"
    }
   ],
   "source": [
    "plt.figure(figsize=(5,4))\n",
    "sns.heatmap(cm, annot=True)\n",
    "plt.xlabel('Predicted Value')\n",
    "plt.ylabel('Actual Value')"
   ]
  },
  {
   "cell_type": "code",
   "execution_count": 139,
   "metadata": {},
   "outputs": [
    {
     "data": {
      "text/plain": [
       "[('DiagnosisGroupCode_count', 0.1984068606155285),\n",
       " ('Unique_DiagnosisGroupCode', 0.16074437527365884),\n",
       " ('ClmAdmitDiagnosisCode_count', 0.10531152311566908),\n",
       " ('Unique_ClmAdmitDiagnosisCode', 0.06942544420651368),\n",
       " ('Claim_count', 0.05855130260735745),\n",
       " ('Avg_Total_ClmProcedureCode', 0.04439730103249297),\n",
       " ('Unique_patients', 0.03464574706565956),\n",
       " ('Avg_AdmissionDuration', 0.03414111662387293),\n",
       " ('Avg_TotalClaimCost', 0.021902083177269212),\n",
       " ('Avg_ClaimDuration', 0.019992912525810196),\n",
       " ('Avg_TotalClaimCost_PerPatient', 0.01805167772589489),\n",
       " ('Unique_County', 0.014923523547203502),\n",
       " ('Avg_Total_ClmDiagnosisCode', 0.01475974696626513),\n",
       " ('Avg_Total_Physician', 0.013971252710815877),\n",
       " ('Unique_States', 0.012900207527613191),\n",
       " ('Age_70-80', 0.01255998700881435),\n",
       " ('ChronicCond_Alzheimer', 0.012440959652175962),\n",
       " ('Age_60-70', 0.011523533396586613),\n",
       " ('ChronicCond_Diabetes', 0.011431929918218573),\n",
       " ('Age_50-60', 0.010870161668061987),\n",
       " ('Age_80-90', 0.01048827710216795),\n",
       " ('ChronicCond_rheumatoidarthritis', 0.010379888135983022),\n",
       " ('ChronicCond_ObstrPulmonary', 0.009893224710391772),\n",
       " ('ChronicCond_IschemicHeart', 0.009183574520357037),\n",
       " ('ChronicCond_Depression', 0.009033551951101988),\n",
       " ('RenalDiseaseIndicator', 0.008991222516021332),\n",
       " ('ChronicCond_KidneyDisease', 0.008970920557007022),\n",
       " ('Age_90-101', 0.008717527976344841),\n",
       " ('ChronicCond_Heartfailure', 0.008066203165361859),\n",
       " ('ChronicCond_Cancer', 0.007971977708796561),\n",
       " ('ChronicCond_Osteoporasis', 0.007837641877883592),\n",
       " ('Age_40-50', 0.007232570242477145),\n",
       " ('ChronicCond_stroke', 0.006583627158989861),\n",
       " ('Age_30-40', 0.0037851957227878668),\n",
       " ('Age_20-30', 0.0019129502888457846)]"
      ]
     },
     "execution_count": 139,
     "metadata": {},
     "output_type": "execute_result"
    }
   ],
   "source": [
    "# Feature Importance\n",
    "tree_final = rf_Grid.best_estimator_\n",
    "feature_importance = list(zip(X_train.columns, tree_final.feature_importances_))\n",
    "sorted(feature_importance, key=lambda imp: imp[1], reverse=True)"
   ]
  },
  {
   "cell_type": "code",
   "execution_count": 140,
   "metadata": {},
   "outputs": [
    {
     "data": {
      "text/plain": [
       "<BarContainer object of 35 artists>"
      ]
     },
     "execution_count": 140,
     "metadata": {},
     "output_type": "execute_result"
    },
    {
     "data": {
      "image/png": "[encoded data removed]",
      "text/plain": [
       "<Figure size 1152x1440 with 1 Axes>"
      ]
     },
     "metadata": {
      "needs_background": "light"
     },
     "output_type": "display_data"
    }
   ],
   "source": [
    "features, importance = zip(*sorted(feature_importance, key=lambda imp: imp[1], reverse=True))\n",
    "plt.figure(figsize=(16,20))\n",
    "plt.barh(features, importance)"
   ]
  },
  {
   "cell_type": "code",
   "execution_count": 82,
   "metadata": {},
   "outputs": [],
   "source": [
    "from sklearn.model_selection import RandomizedSearchCV\n",
    "rf_RandomGrid = RandomizedSearchCV(estimator = rf_Model, param_distributions = param_grid, cv=KFold(shuffle= True, random_state=1), verbose=2, n_jobs=-1, random_state=1, scoring='roc_auc')"
   ]
  },
  {
   "cell_type": "code",
   "execution_count": 83,
   "metadata": {},
   "outputs": [
    {
     "name": "stdout",
     "output_type": "stream",
     "text": [
      "Fitting 5 folds for each of 10 candidates, totalling 50 fits\n"
     ]
    },
    {
     "name": "stderr",
     "output_type": "stream",
     "text": [
      "[Parallel(n_jobs=-1)]: Using backend LokyBackend with 8 concurrent workers.\n",
      "[Parallel(n_jobs=-1)]: Done  25 tasks      | elapsed:    9.7s\n",
      "[Parallel(n_jobs=-1)]: Done  50 out of  50 | elapsed:   54.9s finished\n"
     ]
    },
    {
     "data": {
      "text/plain": [
       "RandomizedSearchCV(cv=KFold(n_splits=5, random_state=1, shuffle=True),\n",
       "                   estimator=RandomForestClassifier(random_state=1), n_jobs=-1,\n",
       "                   param_distributions={'criterion': ['gini'],\n",
       "                                        'max_depth': [4, 6, 8, 10, 12, 13, 14],\n",
       "                                        'max_features': [5, 10, 15, 20, 25, 30,\n",
       "                                                         35],\n",
       "                                        'min_samples_leaf': [2, 4, 6, 8, 10],\n",
       "                                        'n_estimators': [100, 200, 300, 400,\n",
       "                                                         500]},\n",
       "                   random_state=1, verbose=2)"
      ]
     },
     "execution_count": 83,
     "metadata": {},
     "output_type": "execute_result"
    }
   ],
   "source": [
    "rf_RandomGrid.fit(X_train, y_train)"
   ]
  },
  {
   "cell_type": "code",
   "execution_count": 85,
   "metadata": {},
   "outputs": [
    {
     "data": {
      "text/plain": [
       "{'n_estimators': 100,\n",
       " 'min_samples_leaf': 4,\n",
       " 'max_features': 10,\n",
       " 'max_depth': 13,\n",
       " 'criterion': 'gini'}"
      ]
     },
     "execution_count": 85,
     "metadata": {},
     "output_type": "execute_result"
    }
   ],
   "source": [
    "rf_RandomGrid.best_params_\n",
    "\n",
    "# # Initial RandomGrid:\n",
    "# {'n_estimators': 300,\n",
    "#  'min_samples_leaf': 6,\n",
    "#  'max_features': 10,\n",
    "#  'max_depth': 12,\n",
    "#  'criterion': 'gini'}\n",
    "\n",
    "# 2nd RandomGrid:\n",
    "# {'n_estimators': 500,\n",
    "#  'min_samples_leaf': 2,\n",
    "#  'max_features': 30,\n",
    "#  'max_depth': 12,\n",
    "#  'criterion': 'gini'}\n",
    "\n",
    "# 3rd RandomGrid:\n",
    "# {'n_estimators': 100,\n",
    "#  'min_samples_leaf': 2,\n",
    "#  'max_features': 25,\n",
    "#  'max_depth': 12,\n",
    "#  'criterion': 'gini'}\n",
    "\n",
    "# POST EXTRA RANDOM STATE:\n",
    "# {'n_estimators': 100,\n",
    "#  'min_samples_leaf': 4,\n",
    "#  'max_features': 10,\n",
    "#  'max_depth': 13,\n",
    "#  'criterion': 'gini'}\n",
    "\n",
    "# POST EXTRA RANDOM STATE 2:\n",
    "# {'n_estimators': 100,\n",
    "#  'min_samples_leaf': 4,\n",
    "#  'max_features': 10,\n",
    "#  'max_depth': 13,\n",
    "#  'criterion': 'gini'}  \n",
    "\n",
    "# POST EXTRA RANDOM STATE 3:\n",
    "# {'n_estimators': 100,\n",
    "#  'min_samples_leaf': 4,\n",
    "#  'max_features': 10,\n",
    "#  'max_depth': 13,\n",
    "#  'criterion': 'gini'}"
   ]
  },
  {
   "cell_type": "code",
   "execution_count": 128,
   "metadata": {},
   "outputs": [
    {
     "data": {
      "text/plain": [
       "0.956882738528769"
      ]
     },
     "execution_count": 128,
     "metadata": {},
     "output_type": "execute_result"
    }
   ],
   "source": [
    "rf_RandomGrid.best_score_\n",
    "\n",
    "# Initial RandomGrid:\n",
    "# 0.9507647487254187\n",
    "\n",
    "# 2nd RandomGrid:\n",
    "# 0.9564457392571013\n",
    "\n",
    "# 3rd RandomGrid:\n",
    "# 0.9580480699198833\n",
    "\n",
    "# POST EXTRA RANDOM STATE:\n",
    "# 0.956882738528769\n",
    "\n",
    "# # POST EXTRA RANDOM STATE 2:\n",
    "# 0.956882738528769\n",
    "\n",
    "# POST EXTRA RANDOM STATE 3:\n",
    "# 0.956882738528769"
   ]
  },
  {
   "cell_type": "code",
   "execution_count": 129,
   "metadata": {},
   "outputs": [
    {
     "name": "stdout",
     "output_type": "stream",
     "text": [
      "0.9873270211216315\n",
      "0.9629629629629629\n"
     ]
    }
   ],
   "source": [
    "print(rf_RandomGrid.score(X_train, y_train))\n",
    "print(rf_RandomGrid.score(X_test, y_test))\n",
    "\n",
    "# Initial RandomGrid:\n",
    "# 0.9798980335032775\n",
    "# 0.9551478083588175\n",
    "\n",
    "# 2nd RandomGrid:\n",
    "# 0.984122359796067\n",
    "# 0.9605844376486579\n",
    "\n",
    "# 3rd RandomGrid:\n",
    "# 0.9845593590677348\n",
    "# 0.9629629629629629\n",
    "\n",
    "# POST EXTRA RANDOM STATE:\n",
    "# 0.9873270211216315\n",
    "# 0.9629629629629629\n",
    "\n",
    "# POST EXTRA RANDOM STATE 2:\n",
    "# 0.9873270211216315\n",
    "# 0.9629629629629629\n",
    "\n",
    "# POST EXTRA RANDOM STATE 3:\n",
    "# 0.9873270211216315\n",
    "# 0.9629629629629629"
   ]
  },
  {
   "cell_type": "code",
   "execution_count": 130,
   "metadata": {},
   "outputs": [
    {
     "data": {
      "text/plain": [
       "array([[1371,  104],\n",
       "       [   5, 1463]], dtype=int64)"
      ]
     },
     "execution_count": 130,
     "metadata": {},
     "output_type": "execute_result"
    }
   ],
   "source": [
    "from sklearn.metrics import confusion_matrix\n",
    "y_true = y_test\n",
    "y_pred = rf_RandomGrid.predict(X_test) \n",
    "cmRandom = confusion_matrix(y_true, y_pred)\n",
    "cmRandom"
   ]
  },
  {
   "cell_type": "code",
   "execution_count": 131,
   "metadata": {},
   "outputs": [
    {
     "data": {
      "text/plain": [
       "Text(24.0, 0.5, 'Actual Value')"
      ]
     },
     "execution_count": 131,
     "metadata": {},
     "output_type": "execute_result"
    },
    {
     "data": {
      "image/png": "[encoded data removed]",
      "text/plain": [
       "<Figure size 360x288 with 2 Axes>"
      ]
     },
     "metadata": {
      "needs_background": "light"
     },
     "output_type": "display_data"
    }
   ],
   "source": [
    "plt.figure(figsize=(5,4))\n",
    "sns.heatmap(cmRandom, annot=True)\n",
    "plt.xlabel('Predicted Value')\n",
    "plt.ylabel('Actual Value')"
   ]
  },
  {
   "cell_type": "code",
   "execution_count": 136,
   "metadata": {},
   "outputs": [
    {
     "name": "stdout",
     "output_type": "stream",
     "text": [
      "[[1374  101]\n",
      " [   5 1463]]\n",
      "******************************\n",
      "[[1371  104]\n",
      " [   5 1463]]\n"
     ]
    }
   ],
   "source": [
    "print(cm) #GRIDSEARCH\n",
    "print(\"******************************\")\n",
    "print(cmRandom) #RANDOMSEARCH "
   ]
  },
  {
   "cell_type": "code",
   "execution_count": null,
   "metadata": {},
   "outputs": [],
   "source": []
  }
 ],
 "metadata": {
  "kernelspec": {
   "display_name": "Python 3",
   "language": "python",
   "name": "python3"
  },
  "language_info": {
   "codemirror_mode": {
    "name": "ipython",
    "version": 3
   },
   "file_extension": ".py",
   "mimetype": "text/x-python",
   "name": "python",
   "nbconvert_exporter": "python",
   "pygments_lexer": "ipython3",
   "version": "3.8.5"
  }
 },
 "nbformat": 4,
 "nbformat_minor": 4
}
