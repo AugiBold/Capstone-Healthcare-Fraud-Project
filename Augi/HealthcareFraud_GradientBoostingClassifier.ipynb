{
 "cells": [
  {
   "cell_type": "code",
   "execution_count": 17,
   "metadata": {},
   "outputs": [],
   "source": [
    "import numpy as np\n",
    "import pandas as pd\n",
    "%matplotlib inline \n",
    "import seaborn as sns\n",
    "from matplotlib import pyplot as plt\n",
    "import matplotlib.pyplot as plt\n",
    "from sklearn.preprocessing import LabelEncoder\n",
    "from sklearn.preprocessing import OrdinalEncoder\n",
    "import sklearn.model_selection as ms\n",
    "from sklearn.model_selection import train_test_split\n",
    "from sklearn.metrics import confusion_matrix\n",
    "from sklearn.model_selection import StratifiedShuffleSplit\n",
    "from sklearn.ensemble import RandomForestClassifier\n",
    "from sklearn.ensemble import GradientBoostingClassifier\n",
    "\n",
    "X_train = pd.read_csv('./X_train.csv', index_col=0)\n",
    "X_test = pd.read_csv('./X_test.csv', index_col=0)\n",
    "y_train = pd.read_csv('./y_train.csv', index_col=0)\n",
    "y_test = pd.read_csv('./y_test.csv', index_col=0)"
   ]
  },
  {
   "cell_type": "code",
   "execution_count": 2,
   "metadata": {},
   "outputs": [
    {
     "data": {
      "text/html": [
       "<div>\n",
       "<style scoped>\n",
       "    .dataframe tbody tr th:only-of-type {\n",
       "        vertical-align: middle;\n",
       "    }\n",
       "\n",
       "    .dataframe tbody tr th {\n",
       "        vertical-align: top;\n",
       "    }\n",
       "\n",
       "    .dataframe thead th {\n",
       "        text-align: right;\n",
       "    }\n",
       "</style>\n",
       "<table border=\"1\" class=\"dataframe\">\n",
       "  <thead>\n",
       "    <tr style=\"text-align: right;\">\n",
       "      <th></th>\n",
       "      <th>Unique_County</th>\n",
       "      <th>Unique_States</th>\n",
       "      <th>Avg_AdmissionDuration</th>\n",
       "      <th>Avg_ClaimDuration</th>\n",
       "      <th>Avg_Total_ClmProcedureCode</th>\n",
       "      <th>Avg_Total_ClmDiagnosisCode</th>\n",
       "      <th>DiagnosisGroupCode_count</th>\n",
       "      <th>Unique_DiagnosisGroupCode</th>\n",
       "      <th>ClmAdmitDiagnosisCode_count</th>\n",
       "      <th>Unique_ClmAdmitDiagnosisCode</th>\n",
       "      <th>...</th>\n",
       "      <th>ChronicCond_rheumatoidarthritis</th>\n",
       "      <th>ChronicCond_stroke</th>\n",
       "      <th>Age_20-30</th>\n",
       "      <th>Age_30-40</th>\n",
       "      <th>Age_40-50</th>\n",
       "      <th>Age_50-60</th>\n",
       "      <th>Age_60-70</th>\n",
       "      <th>Age_70-80</th>\n",
       "      <th>Age_80-90</th>\n",
       "      <th>Age_90-101</th>\n",
       "    </tr>\n",
       "  </thead>\n",
       "  <tbody>\n",
       "    <tr>\n",
       "      <th>3593</th>\n",
       "      <td>-0.726554</td>\n",
       "      <td>-0.625131</td>\n",
       "      <td>2.348460</td>\n",
       "      <td>1.933499</td>\n",
       "      <td>3.433855</td>\n",
       "      <td>1.468203</td>\n",
       "      <td>-0.256642</td>\n",
       "      <td>-0.249839</td>\n",
       "      <td>-0.468208</td>\n",
       "      <td>-0.522145</td>\n",
       "      <td>...</td>\n",
       "      <td>0.45</td>\n",
       "      <td>0.00</td>\n",
       "      <td>0.00</td>\n",
       "      <td>0.00</td>\n",
       "      <td>0.00</td>\n",
       "      <td>0.18</td>\n",
       "      <td>0.18</td>\n",
       "      <td>0.27</td>\n",
       "      <td>0.36</td>\n",
       "      <td>0.00</td>\n",
       "    </tr>\n",
       "    <tr>\n",
       "      <th>2495</th>\n",
       "      <td>0.038377</td>\n",
       "      <td>0.272537</td>\n",
       "      <td>-0.076676</td>\n",
       "      <td>-0.354683</td>\n",
       "      <td>-0.119036</td>\n",
       "      <td>-0.082437</td>\n",
       "      <td>0.667357</td>\n",
       "      <td>0.788190</td>\n",
       "      <td>0.240953</td>\n",
       "      <td>0.460143</td>\n",
       "      <td>...</td>\n",
       "      <td>0.28</td>\n",
       "      <td>0.12</td>\n",
       "      <td>0.01</td>\n",
       "      <td>0.02</td>\n",
       "      <td>0.01</td>\n",
       "      <td>0.04</td>\n",
       "      <td>0.22</td>\n",
       "      <td>0.38</td>\n",
       "      <td>0.21</td>\n",
       "      <td>0.12</td>\n",
       "    </tr>\n",
       "    <tr>\n",
       "      <th>952</th>\n",
       "      <td>-0.344089</td>\n",
       "      <td>-0.625131</td>\n",
       "      <td>0.668451</td>\n",
       "      <td>0.869776</td>\n",
       "      <td>0.385406</td>\n",
       "      <td>0.537213</td>\n",
       "      <td>-0.212642</td>\n",
       "      <td>-0.196607</td>\n",
       "      <td>-0.442263</td>\n",
       "      <td>-0.537988</td>\n",
       "      <td>...</td>\n",
       "      <td>0.22</td>\n",
       "      <td>0.09</td>\n",
       "      <td>0.00</td>\n",
       "      <td>0.03</td>\n",
       "      <td>0.03</td>\n",
       "      <td>0.06</td>\n",
       "      <td>0.06</td>\n",
       "      <td>0.44</td>\n",
       "      <td>0.28</td>\n",
       "      <td>0.09</td>\n",
       "    </tr>\n",
       "    <tr>\n",
       "      <th>1910</th>\n",
       "      <td>0.038377</td>\n",
       "      <td>-0.400714</td>\n",
       "      <td>0.996046</td>\n",
       "      <td>0.844569</td>\n",
       "      <td>0.760366</td>\n",
       "      <td>1.191422</td>\n",
       "      <td>0.315357</td>\n",
       "      <td>0.335716</td>\n",
       "      <td>-0.174165</td>\n",
       "      <td>-0.031001</td>\n",
       "      <td>...</td>\n",
       "      <td>0.39</td>\n",
       "      <td>0.10</td>\n",
       "      <td>0.00</td>\n",
       "      <td>0.00</td>\n",
       "      <td>0.02</td>\n",
       "      <td>0.06</td>\n",
       "      <td>0.22</td>\n",
       "      <td>0.51</td>\n",
       "      <td>0.16</td>\n",
       "      <td>0.04</td>\n",
       "    </tr>\n",
       "    <tr>\n",
       "      <th>2219</th>\n",
       "      <td>2.078190</td>\n",
       "      <td>3.863209</td>\n",
       "      <td>-0.210402</td>\n",
       "      <td>-0.251295</td>\n",
       "      <td>-0.272617</td>\n",
       "      <td>-0.231894</td>\n",
       "      <td>1.327356</td>\n",
       "      <td>1.506826</td>\n",
       "      <td>1.071190</td>\n",
       "      <td>1.394900</td>\n",
       "      <td>...</td>\n",
       "      <td>0.32</td>\n",
       "      <td>0.11</td>\n",
       "      <td>0.01</td>\n",
       "      <td>0.02</td>\n",
       "      <td>0.02</td>\n",
       "      <td>0.07</td>\n",
       "      <td>0.18</td>\n",
       "      <td>0.34</td>\n",
       "      <td>0.28</td>\n",
       "      <td>0.09</td>\n",
       "    </tr>\n",
       "  </tbody>\n",
       "</table>\n",
       "<p>5 rows × 35 columns</p>\n",
       "</div>"
      ],
      "text/plain": [
       "      Unique_County  Unique_States  Avg_AdmissionDuration  Avg_ClaimDuration  \\\n",
       "3593      -0.726554      -0.625131               2.348460           1.933499   \n",
       "2495       0.038377       0.272537              -0.076676          -0.354683   \n",
       "952       -0.344089      -0.625131               0.668451           0.869776   \n",
       "1910       0.038377      -0.400714               0.996046           0.844569   \n",
       "2219       2.078190       3.863209              -0.210402          -0.251295   \n",
       "\n",
       "      Avg_Total_ClmProcedureCode  Avg_Total_ClmDiagnosisCode  \\\n",
       "3593                    3.433855                    1.468203   \n",
       "2495                   -0.119036                   -0.082437   \n",
       "952                     0.385406                    0.537213   \n",
       "1910                    0.760366                    1.191422   \n",
       "2219                   -0.272617                   -0.231894   \n",
       "\n",
       "      DiagnosisGroupCode_count  Unique_DiagnosisGroupCode  \\\n",
       "3593                 -0.256642                  -0.249839   \n",
       "2495                  0.667357                   0.788190   \n",
       "952                  -0.212642                  -0.196607   \n",
       "1910                  0.315357                   0.335716   \n",
       "2219                  1.327356                   1.506826   \n",
       "\n",
       "      ClmAdmitDiagnosisCode_count  Unique_ClmAdmitDiagnosisCode  ...  \\\n",
       "3593                    -0.468208                     -0.522145  ...   \n",
       "2495                     0.240953                      0.460143  ...   \n",
       "952                     -0.442263                     -0.537988  ...   \n",
       "1910                    -0.174165                     -0.031001  ...   \n",
       "2219                     1.071190                      1.394900  ...   \n",
       "\n",
       "      ChronicCond_rheumatoidarthritis  ChronicCond_stroke  Age_20-30  \\\n",
       "3593                             0.45                0.00       0.00   \n",
       "2495                             0.28                0.12       0.01   \n",
       "952                              0.22                0.09       0.00   \n",
       "1910                             0.39                0.10       0.00   \n",
       "2219                             0.32                0.11       0.01   \n",
       "\n",
       "      Age_30-40  Age_40-50  Age_50-60  Age_60-70  Age_70-80  Age_80-90  \\\n",
       "3593       0.00       0.00       0.18       0.18       0.27       0.36   \n",
       "2495       0.02       0.01       0.04       0.22       0.38       0.21   \n",
       "952        0.03       0.03       0.06       0.06       0.44       0.28   \n",
       "1910       0.00       0.02       0.06       0.22       0.51       0.16   \n",
       "2219       0.02       0.02       0.07       0.18       0.34       0.28   \n",
       "\n",
       "      Age_90-101  \n",
       "3593        0.00  \n",
       "2495        0.12  \n",
       "952         0.09  \n",
       "1910        0.04  \n",
       "2219        0.09  \n",
       "\n",
       "[5 rows x 35 columns]"
      ]
     },
     "execution_count": 2,
     "metadata": {},
     "output_type": "execute_result"
    }
   ],
   "source": [
    "X_train.head()"
   ]
  },
  {
   "cell_type": "code",
   "execution_count": 3,
   "metadata": {},
   "outputs": [
    {
     "data": {
      "text/plain": [
       "(6865, 35)"
      ]
     },
     "execution_count": 3,
     "metadata": {},
     "output_type": "execute_result"
    }
   ],
   "source": [
    "X_train.shape"
   ]
  },
  {
   "cell_type": "code",
   "execution_count": 4,
   "metadata": {},
   "outputs": [
    {
     "data": {
      "text/plain": [
       "(2943, 35)"
      ]
     },
     "execution_count": 4,
     "metadata": {},
     "output_type": "execute_result"
    }
   ],
   "source": [
    "X_test.shape"
   ]
  },
  {
   "cell_type": "code",
   "execution_count": 5,
   "metadata": {},
   "outputs": [],
   "source": [
    "y_train = pd.Series(y_train['PotentialFraud'], dtype='int32')"
   ]
  },
  {
   "cell_type": "code",
   "execution_count": 6,
   "metadata": {},
   "outputs": [],
   "source": [
    "y_test = pd.Series(y_test['PotentialFraud'], dtype='int32')"
   ]
  },
  {
   "cell_type": "code",
   "execution_count": 24,
   "metadata": {},
   "outputs": [],
   "source": [
    "param_grid_gbc = [{\n",
    "    \"n_estimators\": [1000, 2000, 3000],\n",
    "   \"learning_rate\":np.linspace(0.1, 1, 10),\n",
    "    \"min_samples_split\": range(2, 10),\n",
    "    \"max_features\": list(range(5, 40, 5)),\n",
    "    \"max_depth\": range(5, 35, 5)\n",
    "}]"
   ]
  },
  {
   "cell_type": "code",
   "execution_count": 25,
   "metadata": {},
   "outputs": [],
   "source": [
    "# gbc= GradientBoostingClassifier(random_state=1) # TOOK FOREVER ~ 50400 fits lol\n",
    "\n",
    "# from sklearn.model_selection import GridSearchCV, KFold \n",
    "# gbc_Grid = GridSearchCV(gbc, param_grid_gbc, scoring='roc_auc',cv=KFold(shuffle= True, random_state=1),verbose=2, n_jobs=-1)\n",
    "# gbc_Grid.fit(X_train, y_train)"
   ]
  },
  {
   "cell_type": "code",
   "execution_count": 27,
   "metadata": {},
   "outputs": [],
   "source": [
    "gbc= GradientBoostingClassifier(random_state=1)\n",
    "\n",
    "from sklearn.model_selection import RandomizedSearchCV\n",
    "gbc_RandomGrid = RandomizedSearchCV(estimator = gbc, param_distributions = param_grid_gbc, cv=KFold(shuffle= True, random_state=1), verbose=2, n_jobs=-1, random_state=1, scoring='roc_auc')"
   ]
  },
  {
   "cell_type": "code",
   "execution_count": 28,
   "metadata": {},
   "outputs": [
    {
     "name": "stdout",
     "output_type": "stream",
     "text": [
      "Fitting 5 folds for each of 10 candidates, totalling 50 fits\n"
     ]
    },
    {
     "name": "stderr",
     "output_type": "stream",
     "text": [
      "[Parallel(n_jobs=-1)]: Using backend LokyBackend with 8 concurrent workers.\n",
      "[Parallel(n_jobs=-1)]: Done  25 tasks      | elapsed: 11.3min\n",
      "[Parallel(n_jobs=-1)]: Done  50 out of  50 | elapsed: 18.4min finished\n"
     ]
    },
    {
     "data": {
      "text/plain": [
       "RandomizedSearchCV(cv=KFold(n_splits=5, random_state=1, shuffle=True),\n",
       "                   estimator=GradientBoostingClassifier(random_state=1),\n",
       "                   n_jobs=-1,\n",
       "                   param_distributions=[{'learning_rate': array([0.1, 0.2, 0.3, 0.4, 0.5, 0.6, 0.7, 0.8, 0.9, 1. ]),\n",
       "                                         'max_depth': range(5, 35, 5),\n",
       "                                         'max_features': [5, 10, 15, 20, 25, 30,\n",
       "                                                          35],\n",
       "                                         'min_samples_split': range(2, 10),\n",
       "                                         'n_estimators': [1000, 2000, 3000]}],\n",
       "                   random_state=1, scoring='roc_auc', verbose=2)"
      ]
     },
     "execution_count": 28,
     "metadata": {},
     "output_type": "execute_result"
    }
   ],
   "source": [
    "gbc_RandomGrid.fit(X_train, y_train)"
   ]
  },
  {
   "cell_type": "code",
   "execution_count": 29,
   "metadata": {},
   "outputs": [
    {
     "name": "stdout",
     "output_type": "stream",
     "text": [
      "{'n_estimators': 2000, 'min_samples_split': 6, 'max_features': 20, 'max_depth': 25, 'learning_rate': 0.8}\n",
      "0.999829823712644\n",
      "*****\n",
      "0.9999999999999999\n",
      "1.0\n"
     ]
    }
   ],
   "source": [
    "print(gbc_RandomGrid.best_params_)\n",
    "print(gbc_RandomGrid.best_score_) # CV score \n",
    "print(\"*****\")\n",
    "print(gbc_RandomGrid.score(X_train, y_train))\n",
    "print(gbc_RandomGrid.score(X_test, y_test))\n",
    "# {'learning_rate': 0.56, 'max_depth': 25, 'max_features': 5, 'min_samples_leaf': 6, 'min_samples_split': 8, 'n_estimators': 1500}"
   ]
  },
  {
   "cell_type": "code",
   "execution_count": 31,
   "metadata": {},
   "outputs": [
    {
     "data": {
      "text/plain": [
       "array([[1472,    3],\n",
       "       [   0, 1468]], dtype=int64)"
      ]
     },
     "execution_count": 31,
     "metadata": {},
     "output_type": "execute_result"
    }
   ],
   "source": [
    "from sklearn.metrics import confusion_matrix\n",
    "y_true = y_test\n",
    "y_pred = gbc_RandomGrid.best_estimator_.predict(X_test) \n",
    "cm_gbc_Random = confusion_matrix(y_true, y_pred)\n",
    "cm_gbc_Random"
   ]
  },
  {
   "cell_type": "code",
   "execution_count": 32,
   "metadata": {},
   "outputs": [
    {
     "data": {
      "text/plain": [
       "Text(24.0, 0.5, 'Actual Value')"
      ]
     },
     "execution_count": 32,
     "metadata": {},
     "output_type": "execute_result"
    },
    {
     "data": {
      "image/png": "[encoded data removed]",
      "text/plain": [
       "<Figure size 360x288 with 2 Axes>"
      ]
     },
     "metadata": {
      "needs_background": "light"
     },
     "output_type": "display_data"
    }
   ],
   "source": [
    "plt.figure(figsize=(5,4))\n",
    "sns.heatmap(cm_gbc_Random, annot=True)\n",
    "plt.xlabel('Predicted Value')\n",
    "plt.ylabel('Actual Value')"
   ]
  },
  {
   "cell_type": "code",
   "execution_count": 33,
   "metadata": {},
   "outputs": [
    {
     "data": {
      "text/plain": [
       "[('ClmAdmitDiagnosisCode_count', 0.3424260508067219),\n",
       " ('Unique_DiagnosisGroupCode', 0.1675570930155979),\n",
       " ('Claim_count', 0.07302225469863596),\n",
       " ('DiagnosisGroupCode_count', 0.054260867935799546),\n",
       " ('Avg_AdmissionDuration', 0.029393360659248996),\n",
       " ('Avg_Total_Physician', 0.028953961327483124),\n",
       " ('Avg_TotalClaimCost_PerPatient', 0.024204798361017944),\n",
       " ('Unique_States', 0.021717007937061255),\n",
       " ('Unique_patients', 0.01607643166834622),\n",
       " ('Avg_ClaimDuration', 0.015595961902458017),\n",
       " ('Unique_County', 0.015344456055509654),\n",
       " ('Age_90-101', 0.015143091383699576),\n",
       " ('RenalDiseaseIndicator', 0.014273759842482699),\n",
       " ('Avg_Total_ClmDiagnosisCode', 0.01269529744666815),\n",
       " ('ChronicCond_stroke', 0.012630156407657831),\n",
       " ('Age_70-80', 0.011999667612456702),\n",
       " ('ChronicCond_Heartfailure', 0.011045547389159081),\n",
       " ('Age_80-90', 0.011006348513119412),\n",
       " ('Avg_TotalClaimCost', 0.010430630339310756),\n",
       " ('ChronicCond_Alzheimer', 0.010234917412520658),\n",
       " ('ChronicCond_KidneyDisease', 0.009417093605368302),\n",
       " ('ChronicCond_rheumatoidarthritis', 0.00918570307588676),\n",
       " ('Age_50-60', 0.008856842665964574),\n",
       " ('ChronicCond_Cancer', 0.008406352041860363),\n",
       " ('ChronicCond_Diabetes', 0.008358601026128443),\n",
       " ('Age_40-50', 0.007813041807500412),\n",
       " ('ChronicCond_Osteoporasis', 0.007649132607569123),\n",
       " ('ChronicCond_ObstrPulmonary', 0.007339855173434672),\n",
       " ('ChronicCond_IschemicHeart', 0.007225629747991411),\n",
       " ('Avg_Total_ClmProcedureCode', 0.006160115241563212),\n",
       " ('Age_60-70', 0.005583932885043424),\n",
       " ('Unique_ClmAdmitDiagnosisCode', 0.005495850722791759),\n",
       " ('ChronicCond_Depression', 0.005388345629350252),\n",
       " ('Age_30-40', 0.0026951652330354354),\n",
       " ('Age_20-30', 0.0024126778215564143)]"
      ]
     },
     "execution_count": 33,
     "metadata": {},
     "output_type": "execute_result"
    }
   ],
   "source": [
    "# Feature Importance\n",
    "gbc_final = gbc_RandomGrid.best_estimator_\n",
    "feature_importance = list(zip(X_train.columns, gbc_final.feature_importances_))\n",
    "sorted(feature_importance, key=lambda imp: imp[1], reverse=True)"
   ]
  },
  {
   "cell_type": "code",
   "execution_count": 34,
   "metadata": {},
   "outputs": [
    {
     "data": {
      "text/plain": [
       "<BarContainer object of 35 artists>"
      ]
     },
     "execution_count": 34,
     "metadata": {},
     "output_type": "execute_result"
    },
    {
     "data": {
      "image/png": "[encoded data removed]",
      "text/plain": [
       "<Figure size 1152x1440 with 1 Axes>"
      ]
     },
     "metadata": {
      "needs_background": "light"
     },
     "output_type": "display_data"
    }
   ],
   "source": [
    "features, importance = zip(*sorted(feature_importance, key=lambda imp: imp[1], reverse=True))\n",
    "plt.figure(figsize=(16,20))\n",
    "plt.barh(features, importance)"
   ]
  },
  {
   "cell_type": "code",
   "execution_count": null,
   "metadata": {},
   "outputs": [],
   "source": []
  }
 ],
 "metadata": {
  "kernelspec": {
   "display_name": "Python 3",
   "language": "python",
   "name": "python3"
  },
  "language_info": {
   "codemirror_mode": {
    "name": "ipython",
    "version": 3
   },
   "file_extension": ".py",
   "mimetype": "text/x-python",
   "name": "python",
   "nbconvert_exporter": "python",
   "pygments_lexer": "ipython3",
   "version": "3.8.5"
  }
 },
 "nbformat": 4,
 "nbformat_minor": 4
}
