{
 "cells": [
  {
   "cell_type": "code",
   "execution_count": 1,
   "metadata": {},
   "outputs": [],
   "source": [
    "import numpy as np\n",
    "import pandas as pd\n",
    "%matplotlib inline \n",
    "import seaborn as sns\n",
    "from matplotlib import pyplot as plt\n",
    "import matplotlib.pyplot as plt\n",
    "from sklearn.preprocessing import LabelEncoder\n",
    "from sklearn.preprocessing import OrdinalEncoder\n",
    "import sklearn.model_selection as ms\n",
    "from sklearn.model_selection import train_test_split\n",
    "from sklearn.metrics import confusion_matrix\n",
    "from sklearn.model_selection import StratifiedShuffleSplit\n",
    "import sklearn.ensemble\n",
    "from sklearn.ensemble import RandomForestClassifier\n",
    "from sklearn.ensemble import GradientBoostingClassifier\n",
    "\n",
    "X_train = pd.read_csv('./X_train.csv', index_col=0)\n",
    "X_test = pd.read_csv('./X_test.csv', index_col=0)\n",
    "y_train = pd.read_csv('./y_train.csv', index_col=0)\n",
    "y_test = pd.read_csv('./y_test.csv', index_col=0)"
   ]
  },
  {
   "cell_type": "code",
   "execution_count": 2,
   "metadata": {},
   "outputs": [
    {
     "data": {
      "text/html": [
       "<div>\n",
       "<style scoped>\n",
       "    .dataframe tbody tr th:only-of-type {\n",
       "        vertical-align: middle;\n",
       "    }\n",
       "\n",
       "    .dataframe tbody tr th {\n",
       "        vertical-align: top;\n",
       "    }\n",
       "\n",
       "    .dataframe thead th {\n",
       "        text-align: right;\n",
       "    }\n",
       "</style>\n",
       "<table border=\"1\" class=\"dataframe\">\n",
       "  <thead>\n",
       "    <tr style=\"text-align: right;\">\n",
       "      <th></th>\n",
       "      <th>Unique_County</th>\n",
       "      <th>Unique_States</th>\n",
       "      <th>Avg_AdmissionDuration</th>\n",
       "      <th>Avg_ClaimDuration</th>\n",
       "      <th>Avg_Total_ClmProcedureCode</th>\n",
       "      <th>Avg_Total_ClmDiagnosisCode</th>\n",
       "      <th>DiagnosisGroupCode_count</th>\n",
       "      <th>Unique_DiagnosisGroupCode</th>\n",
       "      <th>ClmAdmitDiagnosisCode_count</th>\n",
       "      <th>Unique_ClmAdmitDiagnosisCode</th>\n",
       "      <th>...</th>\n",
       "      <th>ChronicCond_rheumatoidarthritis</th>\n",
       "      <th>ChronicCond_stroke</th>\n",
       "      <th>Age_20-30</th>\n",
       "      <th>Age_30-40</th>\n",
       "      <th>Age_40-50</th>\n",
       "      <th>Age_50-60</th>\n",
       "      <th>Age_60-70</th>\n",
       "      <th>Age_70-80</th>\n",
       "      <th>Age_80-90</th>\n",
       "      <th>Age_90-101</th>\n",
       "    </tr>\n",
       "  </thead>\n",
       "  <tbody>\n",
       "    <tr>\n",
       "      <th>0</th>\n",
       "      <td>-0.166326</td>\n",
       "      <td>-0.524122</td>\n",
       "      <td>-0.425291</td>\n",
       "      <td>0.339014</td>\n",
       "      <td>-0.437440</td>\n",
       "      <td>-0.537097</td>\n",
       "      <td>-0.336670</td>\n",
       "      <td>-0.359205</td>\n",
       "      <td>-0.058553</td>\n",
       "      <td>0.010156</td>\n",
       "      <td>...</td>\n",
       "      <td>0.35</td>\n",
       "      <td>0.07</td>\n",
       "      <td>0.00</td>\n",
       "      <td>0.02</td>\n",
       "      <td>0.07</td>\n",
       "      <td>0.15</td>\n",
       "      <td>0.16</td>\n",
       "      <td>0.27</td>\n",
       "      <td>0.27</td>\n",
       "      <td>0.05</td>\n",
       "    </tr>\n",
       "    <tr>\n",
       "      <th>1</th>\n",
       "      <td>0.025710</td>\n",
       "      <td>-0.182495</td>\n",
       "      <td>-0.425291</td>\n",
       "      <td>-0.790589</td>\n",
       "      <td>-0.437440</td>\n",
       "      <td>0.187966</td>\n",
       "      <td>-0.336670</td>\n",
       "      <td>-0.359205</td>\n",
       "      <td>-0.341867</td>\n",
       "      <td>-0.431924</td>\n",
       "      <td>...</td>\n",
       "      <td>0.37</td>\n",
       "      <td>0.16</td>\n",
       "      <td>0.00</td>\n",
       "      <td>0.00</td>\n",
       "      <td>0.05</td>\n",
       "      <td>0.00</td>\n",
       "      <td>0.00</td>\n",
       "      <td>0.63</td>\n",
       "      <td>0.26</td>\n",
       "      <td>0.05</td>\n",
       "    </tr>\n",
       "    <tr>\n",
       "      <th>2</th>\n",
       "      <td>0.217745</td>\n",
       "      <td>0.159131</td>\n",
       "      <td>-0.425291</td>\n",
       "      <td>-0.173476</td>\n",
       "      <td>-0.437440</td>\n",
       "      <td>-0.283265</td>\n",
       "      <td>-0.336670</td>\n",
       "      <td>-0.359205</td>\n",
       "      <td>-0.310387</td>\n",
       "      <td>-0.376664</td>\n",
       "      <td>...</td>\n",
       "      <td>0.35</td>\n",
       "      <td>0.09</td>\n",
       "      <td>0.04</td>\n",
       "      <td>0.00</td>\n",
       "      <td>0.00</td>\n",
       "      <td>0.04</td>\n",
       "      <td>0.09</td>\n",
       "      <td>0.48</td>\n",
       "      <td>0.35</td>\n",
       "      <td>0.00</td>\n",
       "    </tr>\n",
       "    <tr>\n",
       "      <th>3</th>\n",
       "      <td>-0.742434</td>\n",
       "      <td>-0.524122</td>\n",
       "      <td>-0.425291</td>\n",
       "      <td>0.439202</td>\n",
       "      <td>-0.437440</td>\n",
       "      <td>-0.814006</td>\n",
       "      <td>-0.336670</td>\n",
       "      <td>-0.359205</td>\n",
       "      <td>-0.310387</td>\n",
       "      <td>-0.376664</td>\n",
       "      <td>...</td>\n",
       "      <td>0.37</td>\n",
       "      <td>0.11</td>\n",
       "      <td>0.00</td>\n",
       "      <td>0.05</td>\n",
       "      <td>0.05</td>\n",
       "      <td>0.05</td>\n",
       "      <td>0.11</td>\n",
       "      <td>0.39</td>\n",
       "      <td>0.29</td>\n",
       "      <td>0.05</td>\n",
       "    </tr>\n",
       "    <tr>\n",
       "      <th>4</th>\n",
       "      <td>0.217745</td>\n",
       "      <td>0.159131</td>\n",
       "      <td>-0.002242</td>\n",
       "      <td>-0.177867</td>\n",
       "      <td>0.223641</td>\n",
       "      <td>-0.182171</td>\n",
       "      <td>0.341722</td>\n",
       "      <td>0.414753</td>\n",
       "      <td>0.130323</td>\n",
       "      <td>0.341716</td>\n",
       "      <td>...</td>\n",
       "      <td>0.22</td>\n",
       "      <td>0.12</td>\n",
       "      <td>0.00</td>\n",
       "      <td>0.03</td>\n",
       "      <td>0.07</td>\n",
       "      <td>0.05</td>\n",
       "      <td>0.15</td>\n",
       "      <td>0.37</td>\n",
       "      <td>0.25</td>\n",
       "      <td>0.08</td>\n",
       "    </tr>\n",
       "  </tbody>\n",
       "</table>\n",
       "<p>5 rows × 35 columns</p>\n",
       "</div>"
      ],
      "text/plain": [
       "   Unique_County  Unique_States  Avg_AdmissionDuration  Avg_ClaimDuration  \\\n",
       "0      -0.166326      -0.524122              -0.425291           0.339014   \n",
       "1       0.025710      -0.182495              -0.425291          -0.790589   \n",
       "2       0.217745       0.159131              -0.425291          -0.173476   \n",
       "3      -0.742434      -0.524122              -0.425291           0.439202   \n",
       "4       0.217745       0.159131              -0.002242          -0.177867   \n",
       "\n",
       "   Avg_Total_ClmProcedureCode  Avg_Total_ClmDiagnosisCode  \\\n",
       "0                   -0.437440                   -0.537097   \n",
       "1                   -0.437440                    0.187966   \n",
       "2                   -0.437440                   -0.283265   \n",
       "3                   -0.437440                   -0.814006   \n",
       "4                    0.223641                   -0.182171   \n",
       "\n",
       "   DiagnosisGroupCode_count  Unique_DiagnosisGroupCode  \\\n",
       "0                 -0.336670                  -0.359205   \n",
       "1                 -0.336670                  -0.359205   \n",
       "2                 -0.336670                  -0.359205   \n",
       "3                 -0.336670                  -0.359205   \n",
       "4                  0.341722                   0.414753   \n",
       "\n",
       "   ClmAdmitDiagnosisCode_count  Unique_ClmAdmitDiagnosisCode  ...  \\\n",
       "0                    -0.058553                      0.010156  ...   \n",
       "1                    -0.341867                     -0.431924  ...   \n",
       "2                    -0.310387                     -0.376664  ...   \n",
       "3                    -0.310387                     -0.376664  ...   \n",
       "4                     0.130323                      0.341716  ...   \n",
       "\n",
       "   ChronicCond_rheumatoidarthritis  ChronicCond_stroke  Age_20-30  Age_30-40  \\\n",
       "0                             0.35                0.07       0.00       0.02   \n",
       "1                             0.37                0.16       0.00       0.00   \n",
       "2                             0.35                0.09       0.04       0.00   \n",
       "3                             0.37                0.11       0.00       0.05   \n",
       "4                             0.22                0.12       0.00       0.03   \n",
       "\n",
       "   Age_40-50  Age_50-60  Age_60-70  Age_70-80  Age_80-90  Age_90-101  \n",
       "0       0.07       0.15       0.16       0.27       0.27        0.05  \n",
       "1       0.05       0.00       0.00       0.63       0.26        0.05  \n",
       "2       0.00       0.04       0.09       0.48       0.35        0.00  \n",
       "3       0.05       0.05       0.11       0.39       0.29        0.05  \n",
       "4       0.07       0.05       0.15       0.37       0.25        0.08  \n",
       "\n",
       "[5 rows x 35 columns]"
      ]
     },
     "execution_count": 2,
     "metadata": {},
     "output_type": "execute_result"
    }
   ],
   "source": [
    "X_train.head()"
   ]
  },
  {
   "cell_type": "code",
   "execution_count": 3,
   "metadata": {},
   "outputs": [
    {
     "data": {
      "text/plain": [
       "(4462, 35)"
      ]
     },
     "execution_count": 3,
     "metadata": {},
     "output_type": "execute_result"
    }
   ],
   "source": [
    "X_train.shape"
   ]
  },
  {
   "cell_type": "code",
   "execution_count": 4,
   "metadata": {},
   "outputs": [
    {
     "data": {
      "text/plain": [
       "(1623, 35)"
      ]
     },
     "execution_count": 4,
     "metadata": {},
     "output_type": "execute_result"
    }
   ],
   "source": [
    "X_test.shape"
   ]
  },
  {
   "cell_type": "code",
   "execution_count": 5,
   "metadata": {},
   "outputs": [],
   "source": [
    "y_train = pd.Series(y_train['PotentialFraud'], dtype='int32')"
   ]
  },
  {
   "cell_type": "code",
   "execution_count": 6,
   "metadata": {},
   "outputs": [],
   "source": [
    "y_test = pd.Series(y_test['PotentialFraud'], dtype='int32')"
   ]
  },
  {
   "cell_type": "code",
   "execution_count": 7,
   "metadata": {},
   "outputs": [],
   "source": [
    "param_grid_gbc = [\n",
    "# [{\n",
    "#     \"n_estimators\": [500, 750, 1000], # trade-off with learning rate.  More trees the more overfitting.\n",
    "#    \"learning_rate\":np.logspace(-3,-2,6),\n",
    "#     \"min_samples_split\": range(6,12),\n",
    "#     \"max_features\": range(10, 30, 5),\n",
    "#     \"max_depth\": range(10, 35, 5)  \n",
    "# }]\n",
    "{   'n_estimators': list(range(200,400,20)),\n",
    "    'learning_rate': np.logspace(-3,-1,20),\n",
    "    'min_samples_split': list(range(8,20)),\n",
    "    'max_depth': list(range(3, 10, 2))\n",
    "                         }]\n",
    "\n",
    "\n",
    "# Less param try:\n",
    "# {'n_estimators': 330, 'min_samples_split': 11, 'min_samples_leaf': 20, 'learning_rate': 0.244205309454865}\n",
    "# 0.9367991704286955\n",
    "# *****\n",
    "# 1.0\n",
    "# 0.9248305606900801"
   ]
  },
  {
   "cell_type": "code",
   "execution_count": 8,
   "metadata": {},
   "outputs": [],
   "source": [
    "gbc= GradientBoostingClassifier(random_state=1)\n",
    "\n",
    "from sklearn.model_selection import RandomizedSearchCV, KFold \n",
    "gbc_RandomGrid = RandomizedSearchCV(estimator = gbc, param_distributions = param_grid_gbc, cv=KFold(shuffle= True, random_state=1), verbose=2, n_jobs=-1, random_state=1)"
   ]
  },
  {
   "cell_type": "code",
   "execution_count": 9,
   "metadata": {},
   "outputs": [
    {
     "name": "stdout",
     "output_type": "stream",
     "text": [
      "Fitting 5 folds for each of 10 candidates, totalling 50 fits\n"
     ]
    },
    {
     "data": {
      "text/plain": [
       "RandomizedSearchCV(cv=KFold(n_splits=5, random_state=1, shuffle=True),\n",
       "                   estimator=GradientBoostingClassifier(random_state=1),\n",
       "                   n_jobs=-1,\n",
       "                   param_distributions=[{'learning_rate': array([0.001     , 0.00127427, 0.00162378, 0.00206914, 0.00263665,\n",
       "       0.00335982, 0.00428133, 0.00545559, 0.00695193, 0.00885867,\n",
       "       0.01128838, 0.0143845 , 0.01832981, 0.02335721, 0.02976351,\n",
       "       0.0379269 , 0.0483293 , 0.06158482, 0.078476  , 0.1       ]),\n",
       "                                         'max_depth': [3, 5, 7, 9],\n",
       "                                         'min_samples_split': [8, 9, 10, 11, 12,\n",
       "                                                               13, 14, 15, 16,\n",
       "                                                               17, 18, 19],\n",
       "                                         'n_estimators': [200, 220, 240, 260,\n",
       "                                                          280, 300, 320, 340,\n",
       "                                                          360, 380]}],\n",
       "                   random_state=1, verbose=2)"
      ]
     },
     "execution_count": 9,
     "metadata": {},
     "output_type": "execute_result"
    }
   ],
   "source": [
    "gbc_RandomGrid.fit(X_train, y_train)"
   ]
  },
  {
   "cell_type": "code",
   "execution_count": 16,
   "metadata": {},
   "outputs": [
    {
     "name": "stdout",
     "output_type": "stream",
     "text": [
      "{'n_estimators': 260, 'min_samples_split': 9, 'max_depth': 5, 'learning_rate': 0.04832930238571752}\n",
      "0.935454883272488\n",
      "*****\n",
      "0.9959659345584939\n",
      "0.922365988909427\n"
     ]
    }
   ],
   "source": [
    "print(gbc_RandomGrid.best_params_)\n",
    "print(gbc_RandomGrid.best_score_) # CV score \n",
    "print(\"*****\")\n",
    "print(gbc_RandomGrid.score(X_train, y_train))\n",
    "print(gbc_RandomGrid.score(X_test, y_test))\n",
    "\n",
    "# # Our param and scores: \n",
    "# {'n_estimators': 1000, 'min_samples_split': 2, 'max_features': 35, 'max_depth': 5, 'learning_rate': 0.1}\n",
    "# 0.9403841035658511\n",
    "# *****\n",
    "# 1.0\n",
    "# 0.922365988909427\n",
    "\n",
    "\n",
    "# 1st Grid:\n",
    "# {'n_estimators': 1500, 'min_samples_split': 8, 'max_features': 25, 'max_depth': 20, 'learning_rate': 0.021544346900318832}\n",
    "# 0.9421783277007517\n",
    "# *****\n",
    "# 1.0\n",
    "# 0.933456561922366\n",
    "\n",
    "# 2nd Grid:\n",
    "# {'n_estimators': 1000, 'min_samples_split': 11, 'max_features': 15, 'max_depth': 25, 'learning_rate': 0.01}\n",
    "# 0.939489000145627\n",
    "# *****\n",
    "# 1.0\n",
    "# 0.9353049907578558\n",
    "\n",
    "# 3rd Grid:\n",
    "# {'n_estimators': 750, 'min_samples_split': 7, 'max_features': 10, 'max_depth': 25, 'learning_rate': 0.003981071705534973}\n",
    "# 0.9370226324326225\n",
    "# *****\n",
    "# 1.0\n",
    "# 0.9371534195933456\n",
    "\n",
    "# 4th grid:\n",
    "# {'n_estimators': 750, 'min_samples_split': 7, 'max_features': 10, 'max_depth': 25, 'learning_rate': 0.003981071705534973}\n",
    "# 0.9370226324326225\n",
    "# *****\n",
    "# 1.0\n",
    "# 0.9371534195933456\n",
    "\n",
    "# 5th grid:\n",
    "# {'n_estimators': 260, 'min_samples_split': 9, 'max_depth': 5, 'learning_rate': 0.04832930238571752}\n",
    "# 0.935454883272488\n",
    "# *****\n",
    "# 0.9959659345584939\n",
    "# 0.922365988909427\n"
   ]
  },
  {
   "cell_type": "code",
   "execution_count": 17,
   "metadata": {},
   "outputs": [
    {
     "data": {
      "text/plain": [
       "array([[1403,   68],\n",
       "       [  58,   94]], dtype=int64)"
      ]
     },
     "execution_count": 17,
     "metadata": {},
     "output_type": "execute_result"
    }
   ],
   "source": [
    "from sklearn.metrics import confusion_matrix\n",
    "y_true = y_test\n",
    "y_pred = gbc_RandomGrid.best_estimator_.predict(X_test) \n",
    "cm_gbc_Random = confusion_matrix(y_true, y_pred)\n",
    "cm_gbc_Random\n",
    "\n",
    "# Our param: \n",
    "# array([1403, 66],\n",
    "#       [60  , 92]])\n",
    "   \n",
    "# 2nd Grid: \n",
    "# array([[1430,   41],\n",
    "#        [  64,   88]], dtype=int64)\n",
    "\n",
    "# 3rd Grid:\n",
    "# array([[1447,   24],\n",
    "#        [  78,   74]], dtype=int64)\n",
    "\n",
    "# 4th grid:\n",
    "# array([[1447,   24],\n",
    "#        [  78,   74]],\n",
    "\n",
    "# 5th grid:\n",
    "# array([[1403,   68],\n",
    "#        [  58,   94]], dtype=int64)"
   ]
  },
  {
   "cell_type": "code",
   "execution_count": 18,
   "metadata": {},
   "outputs": [
    {
     "data": {
      "text/plain": [
       "Text(24.0, 0.5, 'Actual Value')"
      ]
     },
     "execution_count": 18,
     "metadata": {},
     "output_type": "execute_result"
    },
    {
     "data": {
      "image/png": "[encoded data removed]",
      "text/plain": [
       "<Figure size 360x288 with 2 Axes>"
      ]
     },
     "metadata": {
      "needs_background": "light"
     },
     "output_type": "display_data"
    }
   ],
   "source": [
    "plt.figure(figsize=(5,4))\n",
    "sns.heatmap(cm_gbc_Random, annot=True,fmt='g')\n",
    "plt.xlabel('Predicted Value')\n",
    "plt.ylabel('Actual Value')"
   ]
  },
  {
   "cell_type": "code",
   "execution_count": 20,
   "metadata": {},
   "outputs": [
    {
     "data": {
      "text/plain": [
       "0.618421052631579"
      ]
     },
     "execution_count": 20,
     "metadata": {},
     "output_type": "execute_result"
    }
   ],
   "source": [
    "recall_gbc = 92/(92+60)\n",
    "recall_gbc \n",
    "# with our param: 0.6052631578947368\n",
    "\n",
    "# 2nd grid: 0.5789473684210527\n",
    "88/(88+64)\n",
    "\n",
    "# 3rd grid: 0.4868421052631579\n",
    "74/(74+78)\n",
    "\n",
    "# 5th grid: 0.618421052631579\n",
    "94/(94+58)"
   ]
  },
  {
   "cell_type": "code",
   "execution_count": 21,
   "metadata": {},
   "outputs": [
    {
     "data": {
      "text/plain": [
       "[('DiagnosisGroupCode_count', 0.47484059405857376),\n",
       " ('Unique_ClmAdmitDiagnosisCode', 0.05269058753763893),\n",
       " ('Unique_DiagnosisGroupCode', 0.04859600771897891),\n",
       " ('Claim_count', 0.04400300837894786),\n",
       " ('Age_30-40', 0.03885801203341938),\n",
       " ('ClmAdmitDiagnosisCode_count', 0.028646870024369286),\n",
       " ('Unique_States', 0.02636782389687991),\n",
       " ('Age_50-60', 0.02377405386952692),\n",
       " ('Unique_patients', 0.02376252701769389),\n",
       " ('Age_20-30', 0.021487522884175117),\n",
       " ('Avg_Total_ClmProcedureCode', 0.01765335818822789),\n",
       " ('Avg_TotalClaimCost_PerPatient', 0.017554892951556062),\n",
       " ('Age_40-50', 0.01626943778305735),\n",
       " ('Avg_AdmissionDuration', 0.015516214260644595),\n",
       " ('Avg_ClaimDuration', 0.012703393469459449),\n",
       " ('Unique_County', 0.012598222668464833),\n",
       " ('Avg_TotalClaimCost', 0.011079136772570771),\n",
       " ('Avg_Total_ClmDiagnosisCode', 0.010821769190930157),\n",
       " ('Age_70-80', 0.009929371830566743),\n",
       " ('Avg_Total_Physician', 0.00909165283435272),\n",
       " ('Age_90-101', 0.008356234331433501),\n",
       " ('ChronicCond_Alzheimer', 0.008125162328458458),\n",
       " ('Age_60-70', 0.007884571760406734),\n",
       " ('ChronicCond_IschemicHeart', 0.0072664075223708305),\n",
       " ('ChronicCond_Osteoporasis', 0.0061825738130766176),\n",
       " ('ChronicCond_ObstrPulmonary', 0.006071721836004221),\n",
       " ('ChronicCond_Depression', 0.005393155231264533),\n",
       " ('ChronicCond_Cancer', 0.0049733137865843975),\n",
       " ('ChronicCond_stroke', 0.004786432666748437),\n",
       " ('RenalDiseaseIndicator', 0.004656386111651747),\n",
       " ('ChronicCond_rheumatoidarthritis', 0.004517095990252544),\n",
       " ('ChronicCond_Heartfailure', 0.004440340402741944),\n",
       " ('ChronicCond_Diabetes', 0.004161384810123513),\n",
       " ('Age_80-90', 0.003574209955911931),\n",
       " ('ChronicCond_KidneyDisease', 0.003366552082936095)]"
      ]
     },
     "execution_count": 21,
     "metadata": {},
     "output_type": "execute_result"
    }
   ],
   "source": [
    "# Feature Importance\n",
    "gbc_final = gbc_RandomGrid.best_estimator_\n",
    "feature_importance = list(zip(X_train.columns, gbc_final.feature_importances_))\n",
    "sorted(feature_importance, key=lambda imp: imp[1], reverse=True)"
   ]
  },
  {
   "cell_type": "code",
   "execution_count": 22,
   "metadata": {},
   "outputs": [
    {
     "data": {
      "text/plain": [
       "<BarContainer object of 35 artists>"
      ]
     },
     "execution_count": 22,
     "metadata": {},
     "output_type": "execute_result"
    },
    {
     "data": {
      "image/png": "[encoded data removed]",
      "text/plain": [
       "<Figure size 1152x1440 with 1 Axes>"
      ]
     },
     "metadata": {
      "needs_background": "light"
     },
     "output_type": "display_data"
    }
   ],
   "source": [
    "features, importance = zip(*sorted(feature_importance, key=lambda imp: imp[1], reverse=False))\n",
    "plt.figure(figsize=(16,20))\n",
    "plt.barh(features, importance) "
   ]
  },
  {
   "cell_type": "markdown",
   "metadata": {},
   "source": [
    "Our Gradient Boosting Classifier model gave the result of AUC_ROC score of 92.24% and Recall of 0.62 "
   ]
  },
  {
   "cell_type": "code",
   "execution_count": null,
   "metadata": {},
   "outputs": [],
   "source": []
  }
 ],
 "metadata": {
  "kernelspec": {
   "display_name": "Python 3",
   "language": "python",
   "name": "python3"
  },
  "language_info": {
   "codemirror_mode": {
    "name": "ipython",
    "version": 3
   },
   "file_extension": ".py",
   "mimetype": "text/x-python",
   "name": "python",
   "nbconvert_exporter": "python",
   "pygments_lexer": "ipython3",
   "version": "3.8.5"
  }
 },
 "nbformat": 4,
 "nbformat_minor": 4
}
